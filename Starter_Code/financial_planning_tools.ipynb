{
 "cells": [
  {
   "cell_type": "markdown",
   "metadata": {},
   "source": [
    "# Financial Planning with APIs and Simulations\n",
    "\n",
    "In this Challenge, you’ll create two financial analysis tools by using a single Jupyter notebook:\n",
    "\n",
    "Part 1: A financial planner for emergencies. The members will be able to use this tool to visualize their current savings. The members can then determine if they have enough reserves for an emergency fund.\n",
    "\n",
    "Part 2: A financial planner for retirement. This tool will forecast the performance of their retirement portfolio in 30 years. To do this, the tool will make an Alpaca API call via the Alpaca SDK to get historical price data for use in Monte Carlo simulations.\n",
    "\n",
    "You’ll use the information from the Monte Carlo simulation to answer questions about the portfolio in your Jupyter notebook.\n",
    "\n"
   ]
  },
  {
   "cell_type": "code",
   "execution_count": 1,
   "metadata": {},
   "outputs": [],
   "source": [
    "# Import the required libraries and dependencies\n",
    "import os\n",
    "import requests\n",
    "import json\n",
    "import pandas as pd\n",
    "from dotenv import load_dotenv\n",
    "import alpaca_trade_api as tradeapi\n",
    "from MCForecastTools import MCSimulation\n",
    "\n",
    "%matplotlib inline"
   ]
  },
  {
   "cell_type": "code",
   "execution_count": 2,
   "metadata": {},
   "outputs": [
    {
     "data": {
      "text/plain": [
       "True"
      ]
     },
     "execution_count": 2,
     "metadata": {},
     "output_type": "execute_result"
    }
   ],
   "source": [
    "# Load the environment variables from the .env file\n",
    "#by calling the load_dotenv function\n",
    "load_dotenv()"
   ]
  },
  {
   "cell_type": "markdown",
   "metadata": {},
   "source": [
    "## Part 1: Create a Financial Planner for Emergencies"
   ]
  },
  {
   "cell_type": "markdown",
   "metadata": {},
   "source": [
    "### Evaluate the Cryptocurrency Wallet by Using the Requests Library\n",
    "\n",
    "In this section, you’ll determine the current value of a member’s cryptocurrency wallet. You’ll collect the current prices for the Bitcoin and Ethereum cryptocurrencies by using the Python Requests library. For the prototype, you’ll assume that the member holds the 1.2 Bitcoins (BTC) and 5.3 Ethereum coins (ETH). To do all this, complete the following steps:\n",
    "\n",
    "1. Create a variable named `monthly_income`, and set its value to `12000`.\n",
    "\n",
    "2. Use the Requests library to get the current price (in US dollars) of Bitcoin (BTC) and Ethereum (ETH) by using the API endpoints that the starter code supplies.\n",
    "\n",
    "3. Navigate the JSON response object to access the current price of each coin, and store each in a variable.\n",
    "\n",
    "    > **Hint** Note the specific identifier for each cryptocurrency in the API JSON response. The Bitcoin identifier is `1`, and the Ethereum identifier is `1027`.\n",
    "\n",
    "4. Calculate the value, in US dollars, of the current amount of each cryptocurrency and of the entire cryptocurrency wallet.\n",
    "\n"
   ]
  },
  {
   "cell_type": "code",
   "execution_count": 3,
   "metadata": {},
   "outputs": [],
   "source": [
    "# The current number of coins for each cryptocurrency asset held in the portfolio.\n",
    "btc_coins = 1.2\n",
    "eth_coins = 5.3"
   ]
  },
  {
   "cell_type": "markdown",
   "metadata": {},
   "source": [
    "#### Step 1: Create a variable named `monthly_income`, and set its value to `12000`."
   ]
  },
  {
   "cell_type": "code",
   "execution_count": 4,
   "metadata": {},
   "outputs": [],
   "source": [
    "# The monthly amount for the member's household income\n",
    "monthly_income = 12000"
   ]
  },
  {
   "cell_type": "markdown",
   "metadata": {},
   "source": [
    "#### Review the endpoint URLs for the API calls to Free Crypto API in order to get the current pricing information for both BTC and ETH."
   ]
  },
  {
   "cell_type": "code",
   "execution_count": 5,
   "metadata": {},
   "outputs": [],
   "source": [
    "# The Free Crypto API Call endpoint URLs for the held cryptocurrency assets\n",
    "btc_url = \"https://api.alternative.me/v2/ticker/Bitcoin/?convert=USD\"\n",
    "eth_url = \"https://api.alternative.me/v2/ticker/Ethereum/?convert=USD\""
   ]
  },
  {
   "cell_type": "markdown",
   "metadata": {},
   "source": [
    "#### Step 2. Use the Requests library to get the current price (in US dollars) of Bitcoin (BTC) and Ethereum (ETH) by using the API endpoints that the starter code supplied."
   ]
  },
  {
   "cell_type": "code",
   "execution_count": 6,
   "metadata": {},
   "outputs": [
    {
     "name": "stdout",
     "output_type": "stream",
     "text": [
      "{\n",
      "    \"data\": {\n",
      "        \"1\": {\n",
      "            \"circulating_supply\": 19212125,\n",
      "            \"id\": 1,\n",
      "            \"last_updated\": 1668911092,\n",
      "            \"max_supply\": 21000000,\n",
      "            \"name\": \"Bitcoin\",\n",
      "            \"quotes\": {\n",
      "                \"USD\": {\n",
      "                    \"market_cap\": 321276713064,\n",
      "                    \"percent_change_1h\": 0.0380459544613693,\n",
      "                    \"percent_change_24h\": 0.569825933486686,\n",
      "                    \"percent_change_7d\": -0.470109465540345,\n",
      "                    \"percentage_change_1h\": 0.0380459544613693,\n",
      "                    \"percentage_change_24h\": 0.569825933486686,\n",
      "                    \"percentage_change_7d\": -0.470109465540345,\n",
      "                    \"price\": 16719.02,\n",
      "                    \"volume_24h\": 11599484290\n",
      "                }\n",
      "            },\n",
      "            \"rank\": 1,\n",
      "            \"symbol\": \"BTC\",\n",
      "            \"total_supply\": 19212125,\n",
      "            \"website_slug\": \"bitcoin\"\n",
      "        }\n",
      "    },\n",
      "    \"metadata\": {\n",
      "        \"error\": null,\n",
      "        \"num_cryptocurrencies\": 3119,\n",
      "        \"timestamp\": 1668911092\n",
      "    }\n",
      "}\n"
     ]
    }
   ],
   "source": [
    "# Using the Python requests library, make an API call to access the current price of BTC\n",
    "btc_response = requests.get(btc_url).json()\n",
    "\n",
    "\n",
    "# Use the json.dumps function to review the response data from the API call\n",
    "# Use the indent and sort_keys parameters to make the response object readable\n",
    "print(json.dumps(btc_response, indent=4, sort_keys=True))"
   ]
  },
  {
   "cell_type": "code",
   "execution_count": 7,
   "metadata": {},
   "outputs": [
    {
     "name": "stdout",
     "output_type": "stream",
     "text": [
      "The current price of btc is 16719.02\n"
     ]
    }
   ],
   "source": [
    "# Navigate the BTC response object to access the current price of BTC\n",
    "btc_price = btc_response['data']['1']['quotes']['USD']['price']\n",
    "\n",
    "# Print the current price of BTC\n",
    "print(f\"The current price of btc is {btc_price}\")"
   ]
  },
  {
   "cell_type": "code",
   "execution_count": 8,
   "metadata": {},
   "outputs": [
    {
     "name": "stdout",
     "output_type": "stream",
     "text": [
      "{\n",
      "    \"data\": {\n",
      "        \"1027\": {\n",
      "            \"circulating_supply\": 120514870,\n",
      "            \"id\": 1027,\n",
      "            \"last_updated\": 1668911091,\n",
      "            \"max_supply\": 120514870,\n",
      "            \"name\": \"Ethereum\",\n",
      "            \"quotes\": {\n",
      "                \"USD\": {\n",
      "                    \"market_cap\": 147142305193,\n",
      "                    \"percent_change_1h\": 0.0454407093281654,\n",
      "                    \"percent_change_24h\": 1.13979275112867,\n",
      "                    \"percent_change_7d\": -2.77252619803674,\n",
      "                    \"percentage_change_1h\": 0.0454407093281654,\n",
      "                    \"percentage_change_24h\": 1.13979275112867,\n",
      "                    \"percentage_change_7d\": -2.77252619803674,\n",
      "                    \"price\": 1220.79,\n",
      "                    \"volume_24h\": 3796888169\n",
      "                }\n",
      "            },\n",
      "            \"rank\": 2,\n",
      "            \"symbol\": \"ETH\",\n",
      "            \"total_supply\": 120514870,\n",
      "            \"website_slug\": \"ethereum\"\n",
      "        }\n",
      "    },\n",
      "    \"metadata\": {\n",
      "        \"error\": null,\n",
      "        \"num_cryptocurrencies\": 3119,\n",
      "        \"timestamp\": 1668911091\n",
      "    }\n",
      "}\n"
     ]
    }
   ],
   "source": [
    "# Using the Python requests library, make an API call to access the current price ETH\n",
    "eth_response = btc_response = requests.get(eth_url).json()\n",
    "\n",
    "# Use the json.dumps function to review the response data from the API call\n",
    "# Use the indent and sort_keys parameters to make the response object readable\n",
    "print(json.dumps(eth_response, indent=4, sort_keys=True))\n"
   ]
  },
  {
   "cell_type": "markdown",
   "metadata": {},
   "source": [
    "#### Step 3: Navigate the JSON response object to access the current price of each coin, and store each in a variable."
   ]
  },
  {
   "cell_type": "code",
   "execution_count": 9,
   "metadata": {},
   "outputs": [
    {
     "name": "stdout",
     "output_type": "stream",
     "text": [
      "The current price of eth is 1220.79\n"
     ]
    }
   ],
   "source": [
    "# Navigate the BTC response object to access the current price of ETH\n",
    "eth_price = eth_response['data']['1027']['quotes']['USD']['price']\n",
    "\n",
    "# Print the current price of ETH\n",
    "print(f\"The current price of eth is {eth_price}\")\n"
   ]
  },
  {
   "cell_type": "markdown",
   "metadata": {},
   "source": [
    "### Step 4: Calculate the value, in US dollars, of the current amount of each cryptocurrency and of the entire cryptocurrency wallet."
   ]
  },
  {
   "cell_type": "code",
   "execution_count": 10,
   "metadata": {},
   "outputs": [
    {
     "name": "stdout",
     "output_type": "stream",
     "text": [
      "The current value of BTC holding is $20062.824\n"
     ]
    }
   ],
   "source": [
    "# Compute the current value of the BTC holding \n",
    "btc_value = btc_coins * btc_price\n",
    "\n",
    "# Print current value of your holding in BTC\n",
    "print(f\"The current value of BTC holding is ${btc_value}\")\n"
   ]
  },
  {
   "cell_type": "code",
   "execution_count": 11,
   "metadata": {},
   "outputs": [
    {
     "name": "stdout",
     "output_type": "stream",
     "text": [
      "The current value of ETF holding is $6470.187\n"
     ]
    }
   ],
   "source": [
    "# Compute the current value of the ETH holding \n",
    "eth_value = eth_coins * eth_price\n",
    "\n",
    "# Print current value of your holding in ETH\n",
    "print(f\"The current value of ETF holding is ${eth_value}\")\n"
   ]
  },
  {
   "cell_type": "code",
   "execution_count": 12,
   "metadata": {},
   "outputs": [
    {
     "name": "stdout",
     "output_type": "stream",
     "text": [
      "The current cryptocurrecny wallet is $26533.011\n"
     ]
    }
   ],
   "source": [
    "# Compute the total value of the cryptocurrency wallet\n",
    "# Add the value of the BTC holding to the value of the ETH holding\n",
    "total_crypto_wallet = btc_value + eth_value\n",
    "\n",
    "# Print current cryptocurrency wallet balance\n",
    "print(f\"The current cryptocurrecny wallet is ${total_crypto_wallet}\")\n"
   ]
  },
  {
   "cell_type": "markdown",
   "metadata": {},
   "source": [
    "### Evaluate the Stock and Bond Holdings by Using the Alpaca SDK\n",
    "\n",
    "In this section, you’ll determine the current value of a member’s stock and bond holdings. You’ll make an API call to Alpaca via the Alpaca SDK to get the current closing prices of the SPDR S&P 500 ETF Trust (ticker: SPY) and of the iShares Core US Aggregate Bond ETF (ticker: AGG). For the prototype, assume that the member holds 110 shares of SPY, which represents the stock portion of their portfolio, and 200 shares of AGG, which represents the bond portion. To do all this, complete the following steps:\n",
    "\n",
    "1. In the `Starter_Code` folder, create an environment file (`.env`) to store the values of your Alpaca API key and Alpaca secret key.\n",
    "\n",
    "2. Set the variables for the Alpaca API and secret keys. Using the Alpaca SDK, create the Alpaca `tradeapi.REST` object. In this object, include the parameters for the Alpaca API key, the secret key, and the version number.\n",
    "\n",
    "3. Set the following parameters for the Alpaca API call:\n",
    "\n",
    "    - `tickers`: Use the tickers for the member’s stock and bond holdings.\n",
    "\n",
    "    - `timeframe`: Use a time frame of one day.\n",
    "\n",
    "    - `start_date` and `end_date`: Use the same date for these parameters, and format them with the date of the previous weekday (or `2020-08-07`). This is because you want the one closing price for the most-recent trading day.\n",
    "\n",
    "4. Get the current closing prices for `SPY` and `AGG` by using the Alpaca `get_bars` function. Format the response as a Pandas DataFrame by including the `df` property at the end of the `get_bars` function.\n",
    "\n",
    "5. Navigating the Alpaca response DataFrame, select the `SPY` and `AGG` closing prices, and store them as variables.\n",
    "\n",
    "6. Calculate the value, in US dollars, of the current amount of shares in each of the stock and bond portions of the portfolio, and print the results.\n"
   ]
  },
  {
   "cell_type": "markdown",
   "metadata": {},
   "source": [
    "#### Review the total number of shares held in both (SPY) and (AGG)."
   ]
  },
  {
   "cell_type": "code",
   "execution_count": 13,
   "metadata": {},
   "outputs": [],
   "source": [
    "# Current amount of shares held in both the stock (SPY) and bond (AGG) portion of the portfolio.\n",
    "spy_shares = 110\n",
    "agg_shares = 200\n"
   ]
  },
  {
   "cell_type": "markdown",
   "metadata": {},
   "source": [
    "#### Step 1: In the `Starter_Code` folder, create an environment file (`.env`) to store the values of your Alpaca API key and Alpaca secret key."
   ]
  },
  {
   "cell_type": "markdown",
   "metadata": {},
   "source": [
    "#### Step 2: Set the variables for the Alpaca API and secret keys. Using the Alpaca SDK, create the Alpaca `tradeapi.REST` object. In this object, include the parameters for the Alpaca API key, the secret key, and the version number."
   ]
  },
  {
   "cell_type": "code",
   "execution_count": 14,
   "metadata": {},
   "outputs": [
    {
     "data": {
      "text/plain": [
       "str"
      ]
     },
     "metadata": {},
     "output_type": "display_data"
    },
    {
     "data": {
      "text/plain": [
       "str"
      ]
     },
     "metadata": {},
     "output_type": "display_data"
    }
   ],
   "source": [
    "# Set the variables for the Alpaca API and secret keys\n",
    "alpaca_api_key = os.getenv(\"alpaca_api_key\")\n",
    "alpaca_secret_key = os.getenv(\"alpaca_secret_key\")\n",
    "display(type(alpaca_api_key))\n",
    "display(type(alpaca_secret_key))\n",
    "# Create the Alpaca tradeapi.REST object\n",
    "\n",
    "alpaca = tradeapi.REST(\n",
    "    alpaca_api_key,\n",
    "    alpaca_secret_key,\n",
    "    api_version=\"v2\")"
   ]
  },
  {
   "cell_type": "markdown",
   "metadata": {},
   "source": [
    "#### Step 3: Set the following parameters for the Alpaca API call:\n",
    "\n",
    "- `tickers`: Use the tickers for the member’s stock and bond holdings.\n",
    "\n",
    "- `timeframe`: Use a time frame of one day.\n",
    "\n",
    "- `start_date` and `end_date`: Use the same date for these parameters, and format them with the date of the previous weekday (or `2020-08-07`). This is because you want the one closing price for the most-recent trading day.\n"
   ]
  },
  {
   "cell_type": "code",
   "execution_count": 15,
   "metadata": {},
   "outputs": [],
   "source": [
    "# Set the tickers for both the bond and stock portion of the portfolio\n",
    "tickers = ['SPY', 'AGG']\n",
    "\n",
    "# Set timeframe to 1Day\n",
    "timeframe = \"1D\"\n",
    "\n",
    "# Format current date as ISO format\n",
    "# Set both the start and end date at the date of your prior weekday \n",
    "# This will give you the closing price of the previous trading day\n",
    "# Alternatively you can use a start and end date of 2020-08-07\n",
    "start_date = pd.Timestamp(\"2022-11-17\", tz=\"America/New_York\").isoformat()\n",
    "end_date = pd.Timestamp(\"2022-11-17\", tz=\"America/New_York\").isoformat()\n"
   ]
  },
  {
   "cell_type": "markdown",
   "metadata": {},
   "source": [
    "#### Step 4: Get the current closing prices for `SPY` and `AGG` by using the Alpaca `get_bars` function. Format the response as a Pandas DataFrame by including the `df` property at the end of the `get_bars` function."
   ]
  },
  {
   "cell_type": "code",
   "execution_count": 16,
   "metadata": {},
   "outputs": [
    {
     "data": {
      "text/html": [
       "<div>\n",
       "<style scoped>\n",
       "    .dataframe tbody tr th:only-of-type {\n",
       "        vertical-align: middle;\n",
       "    }\n",
       "\n",
       "    .dataframe tbody tr th {\n",
       "        vertical-align: top;\n",
       "    }\n",
       "\n",
       "    .dataframe thead tr th {\n",
       "        text-align: left;\n",
       "    }\n",
       "\n",
       "    .dataframe thead tr:last-of-type th {\n",
       "        text-align: right;\n",
       "    }\n",
       "</style>\n",
       "<table border=\"1\" class=\"dataframe\">\n",
       "  <thead>\n",
       "    <tr>\n",
       "      <th></th>\n",
       "      <th colspan=\"7\" halign=\"left\">SPY</th>\n",
       "      <th colspan=\"7\" halign=\"left\">AGG</th>\n",
       "    </tr>\n",
       "    <tr>\n",
       "      <th></th>\n",
       "      <th>open</th>\n",
       "      <th>high</th>\n",
       "      <th>low</th>\n",
       "      <th>close</th>\n",
       "      <th>volume</th>\n",
       "      <th>trade_count</th>\n",
       "      <th>vwap</th>\n",
       "      <th>open</th>\n",
       "      <th>high</th>\n",
       "      <th>low</th>\n",
       "      <th>close</th>\n",
       "      <th>volume</th>\n",
       "      <th>trade_count</th>\n",
       "      <th>vwap</th>\n",
       "    </tr>\n",
       "    <tr>\n",
       "      <th>timestamp</th>\n",
       "      <th></th>\n",
       "      <th></th>\n",
       "      <th></th>\n",
       "      <th></th>\n",
       "      <th></th>\n",
       "      <th></th>\n",
       "      <th></th>\n",
       "      <th></th>\n",
       "      <th></th>\n",
       "      <th></th>\n",
       "      <th></th>\n",
       "      <th></th>\n",
       "      <th></th>\n",
       "      <th></th>\n",
       "    </tr>\n",
       "  </thead>\n",
       "  <tbody>\n",
       "    <tr>\n",
       "      <th>2022-11-17 05:00:00+00:00</th>\n",
       "      <td>390.46</td>\n",
       "      <td>394.95</td>\n",
       "      <td>390.14</td>\n",
       "      <td>394.24</td>\n",
       "      <td>74165955</td>\n",
       "      <td>496852</td>\n",
       "      <td>392.809764</td>\n",
       "      <td>97.03</td>\n",
       "      <td>97.165</td>\n",
       "      <td>96.85</td>\n",
       "      <td>97.14</td>\n",
       "      <td>6858308</td>\n",
       "      <td>21862</td>\n",
       "      <td>97.041575</td>\n",
       "    </tr>\n",
       "  </tbody>\n",
       "</table>\n",
       "</div>"
      ],
      "text/plain": [
       "                              SPY                                    \\\n",
       "                             open    high     low   close    volume   \n",
       "timestamp                                                             \n",
       "2022-11-17 05:00:00+00:00  390.46  394.95  390.14  394.24  74165955   \n",
       "\n",
       "                                                     AGG                 \\\n",
       "                          trade_count        vwap   open    high    low   \n",
       "timestamp                                                                 \n",
       "2022-11-17 05:00:00+00:00      496852  392.809764  97.03  97.165  96.85   \n",
       "\n",
       "                                                                  \n",
       "                           close   volume trade_count       vwap  \n",
       "timestamp                                                         \n",
       "2022-11-17 05:00:00+00:00  97.14  6858308       21862  97.041575  "
      ]
     },
     "execution_count": 16,
     "metadata": {},
     "output_type": "execute_result"
    }
   ],
   "source": [
    "# Use the Alpaca get_bars function to get current closing prices the portfolio\n",
    "# Be sure to set the `df` property after the function to format the response object as a DataFrame\n",
    "prices_df = alpaca.get_bars(\n",
    "    tickers,\n",
    "    timeframe,\n",
    "    start=start_date,\n",
    "    end=end_date\n",
    ").df\n",
    "\n",
    "# Reorganize the DataFrame\n",
    "# Separate ticker data\n",
    "SPY = prices_df[prices_df['symbol']=='SPY'].drop('symbol', axis=1)\n",
    "AGG = prices_df[prices_df['symbol']=='AGG'].drop('symbol', axis=1)\n",
    "\n",
    "# Concatenate the ticker DataFrames\n",
    "prices_df = pd.concat([SPY, AGG],axis=1, keys=['SPY','AGG'])\n",
    "\n",
    "# Review the first 5 rows of the Alpaca DataFrame\n",
    "prices_df\n"
   ]
  },
  {
   "cell_type": "markdown",
   "metadata": {},
   "source": [
    "#### Step 5: Navigating the Alpaca response DataFrame, select the `SPY` and `AGG` closing prices, and store them as variables."
   ]
  },
  {
   "cell_type": "code",
   "execution_count": 17,
   "metadata": {},
   "outputs": [
    {
     "name": "stdout",
     "output_type": "stream",
     "text": [
      "Closing price of AGG is $97.14\n"
     ]
    }
   ],
   "source": [
    "# Access the closing price for AGG from the Alpaca DataFrame\n",
    "# Converting the value to a floating point number\n",
    "agg_close_price = float(prices_df[\"AGG\"][\"close\"])\n",
    "\n",
    "# Print the AGG closing price\n",
    "print(f\"Closing price of AGG is ${agg_close_price}\")\n"
   ]
  },
  {
   "cell_type": "code",
   "execution_count": 18,
   "metadata": {},
   "outputs": [
    {
     "name": "stdout",
     "output_type": "stream",
     "text": [
      "Closing price of SPY is $394.24\n"
     ]
    }
   ],
   "source": [
    "# Access the closing price for SPY from the Alpaca DataFrame\n",
    "# Converting the value to a floating point number\n",
    "spy_close_price = float(prices_df[\"SPY\"][\"close\"])\n",
    "\n",
    "# Print the SPY closing price\n",
    "print(f\"Closing price of SPY is ${spy_close_price}\")\n"
   ]
  },
  {
   "cell_type": "markdown",
   "metadata": {},
   "source": [
    "#### Step 6: Calculate the value, in US dollars, of the current amount of shares in each of the stock and bond portions of the portfolio, and print the results."
   ]
  },
  {
   "cell_type": "code",
   "execution_count": 19,
   "metadata": {},
   "outputs": [
    {
     "name": "stdout",
     "output_type": "stream",
     "text": [
      "The Current value of the bond AGG is $19428.0\n"
     ]
    }
   ],
   "source": [
    "# Calculate the current value of the bond portion of the portfolio\n",
    "agg_value = agg_shares * agg_close_price\n",
    "\n",
    "# Print the current value of the bond portfolio\n",
    "print(f\"The Current value of the bond AGG is ${agg_value}\")\n"
   ]
  },
  {
   "cell_type": "code",
   "execution_count": 20,
   "metadata": {},
   "outputs": [
    {
     "name": "stdout",
     "output_type": "stream",
     "text": [
      "The Current value of the Stock SPY is $43366.4\n"
     ]
    }
   ],
   "source": [
    "# Calculate the current value of the stock portion of the portfolio\n",
    "spy_value = spy_shares * spy_close_price\n",
    "\n",
    "# Print the current value of the stock portfolio\n",
    "print(f\"The Current value of the Stock SPY is ${spy_value}\") \n"
   ]
  },
  {
   "cell_type": "code",
   "execution_count": 21,
   "metadata": {},
   "outputs": [
    {
     "name": "stdout",
     "output_type": "stream",
     "text": [
      "The current balance of the stocks and bond portion is $62794.4\n"
     ]
    }
   ],
   "source": [
    "# Calculate the total value of the stock and bond portion of the portfolio\n",
    "total_stocks_bonds = agg_value + spy_value\n",
    "\n",
    "# Print the current balance of the stock and bond portion of the portfolio\n",
    "print(f\"The current balance of the stocks and bond portion is ${total_stocks_bonds}\")\n"
   ]
  },
  {
   "cell_type": "code",
   "execution_count": 22,
   "metadata": {},
   "outputs": [
    {
     "name": "stdout",
     "output_type": "stream",
     "text": [
      "The Current Cryptocurrency wallet balance is $89327.411\n"
     ]
    }
   ],
   "source": [
    "# Calculate the total value of the member's entire savings portfolio\n",
    "# Add the value of the cryptocurrency walled to the value of the total stocks and bonds\n",
    "total_portfolio = total_crypto_wallet + total_stocks_bonds\n",
    "\n",
    "# Print current cryptocurrency wallet balance\n",
    "print(f\"The Current Cryptocurrency wallet balance is ${total_portfolio}\")\n"
   ]
  },
  {
   "cell_type": "markdown",
   "metadata": {},
   "source": [
    "### Evaluate the Emergency Fund\n",
    "\n",
    "In this section, you’ll use the valuations for the cryptocurrency wallet and for the stock and bond portions of the portfolio to determine if the credit union member has enough savings to build an emergency fund into their financial plan. To do this, complete the following steps:\n",
    "\n",
    "1. Create a Python list named `savings_data` that has two elements. The first element contains the total value of the cryptocurrency wallet. The second element contains the total value of the stock and bond portions of the portfolio.\n",
    "\n",
    "2. Use the `savings_data` list to create a Pandas DataFrame named `savings_df`, and then display this DataFrame. The function to create the DataFrame should take the following three parameters:\n",
    "\n",
    "    - `savings_data`: Use the list that you just created.\n",
    "\n",
    "    - `columns`: Set this parameter equal to a Python list with a single value called `amount`.\n",
    "\n",
    "    - `index`: Set this parameter equal to a Python list with the values of `crypto` and `stock/bond`.\n",
    "\n",
    "3. Use the `savings_df` DataFrame to plot a pie chart that visualizes the composition of the member’s portfolio. The y-axis of the pie chart uses `amount`. Be sure to add a title.\n",
    "\n",
    "4. Using Python, determine if the current portfolio has enough to create an emergency fund as part of the member’s financial plan. Ideally, an emergency fund should equal to three times the member’s monthly income. To do this, implement the following steps:\n",
    "\n",
    "    1. Create a variable named `emergency_fund_value`, and set it equal to three times the value of the member’s `monthly_income` of $12000. (You set this earlier in Part 1).\n",
    "\n",
    "    2. Create a series of three if statements to determine if the member’s total portfolio is large enough to fund the emergency portfolio:\n",
    "\n",
    "        1. If the total portfolio value is greater than the emergency fund value, display a message congratulating the member for having enough money in this fund.\n",
    "\n",
    "        2. Else if the total portfolio value is equal to the emergency fund value, display a message congratulating the member on reaching this important financial goal.\n",
    "\n",
    "        3. Else the total portfolio is less than the emergency fund value, so display a message showing how many dollars away the member is from reaching the goal. (Subtract the total portfolio value from the emergency fund value.)\n"
   ]
  },
  {
   "cell_type": "markdown",
   "metadata": {},
   "source": [
    "#### Step 1: Create a Python list named `savings_data` that has two elements. The first element contains the total value of the cryptocurrency wallet. The second element contains the total value of the stock and bond portions of the portfolio."
   ]
  },
  {
   "cell_type": "code",
   "execution_count": 23,
   "metadata": {},
   "outputs": [
    {
     "data": {
      "text/plain": [
       "[26533.011, 62794.4]"
      ]
     },
     "execution_count": 23,
     "metadata": {},
     "output_type": "execute_result"
    }
   ],
   "source": [
    "# Consolidate financial assets data into a Python list\n",
    "savings_data = [total_crypto_wallet, total_stocks_bonds]\n",
    "# Review the Python list savings_data\n",
    "savings_data\n",
    "    "
   ]
  },
  {
   "cell_type": "markdown",
   "metadata": {},
   "source": [
    "#### Step 2: Use the `savings_data` list to create a Pandas DataFrame named `savings_df`, and then display this DataFrame. The function to create the DataFrame should take the following three parameters:\n",
    "\n",
    "- `savings_data`: Use the list that you just created.\n",
    "\n",
    "- `columns`: Set this parameter equal to a Python list with a single value called `amount`.\n",
    "\n",
    "- `index`: Set this parameter equal to a Python list with the values of `crypto` and `stock/bond`.\n"
   ]
  },
  {
   "cell_type": "code",
   "execution_count": 24,
   "metadata": {},
   "outputs": [
    {
     "data": {
      "text/html": [
       "<div>\n",
       "<style scoped>\n",
       "    .dataframe tbody tr th:only-of-type {\n",
       "        vertical-align: middle;\n",
       "    }\n",
       "\n",
       "    .dataframe tbody tr th {\n",
       "        vertical-align: top;\n",
       "    }\n",
       "\n",
       "    .dataframe thead th {\n",
       "        text-align: right;\n",
       "    }\n",
       "</style>\n",
       "<table border=\"1\" class=\"dataframe\">\n",
       "  <thead>\n",
       "    <tr style=\"text-align: right;\">\n",
       "      <th></th>\n",
       "      <th>amount</th>\n",
       "    </tr>\n",
       "  </thead>\n",
       "  <tbody>\n",
       "    <tr>\n",
       "      <th>crypto</th>\n",
       "      <td>26533.011</td>\n",
       "    </tr>\n",
       "    <tr>\n",
       "      <th>stock/bond</th>\n",
       "      <td>62794.400</td>\n",
       "    </tr>\n",
       "  </tbody>\n",
       "</table>\n",
       "</div>"
      ],
      "text/plain": [
       "               amount\n",
       "crypto      26533.011\n",
       "stock/bond  62794.400"
      ]
     },
     "metadata": {},
     "output_type": "display_data"
    }
   ],
   "source": [
    "# Create a Pandas DataFrame called savings_df \n",
    "saving_df = pd.DataFrame(\n",
    "    savings_data,\n",
    "    index=['crypto', 'stock/bond'],\n",
    "    columns=['amount']\n",
    ")\n",
    "\n",
    "\n",
    "# Display the savings_df DataFrame\n",
    "display(saving_df)\n"
   ]
  },
  {
   "cell_type": "markdown",
   "metadata": {},
   "source": [
    "#### Step 3: Use the `savings_df` DataFrame to plot a pie chart that visualizes the composition of the member’s portfolio. The y-axis of the pie chart uses `amount`. Be sure to add a title."
   ]
  },
  {
   "cell_type": "code",
   "execution_count": 25,
   "metadata": {},
   "outputs": [
    {
     "data": {
      "text/plain": [
       "<AxesSubplot:title={'center':'Composition of member portfolio - 2022-11-17'}, ylabel='amount'>"
      ]
     },
     "execution_count": 25,
     "metadata": {},
     "output_type": "execute_result"
    },
    {
     "data": {
      "image/png": "[encoded data removed]",
      "text/plain": [
       "<Figure size 432x288 with 1 Axes>"
      ]
     },
     "metadata": {},
     "output_type": "display_data"
    }
   ],
   "source": [
    "# Plot the total value of the member's portfolio (crypto and stock/bond) in a pie chart\n",
    "saving_df.plot.pie(y='amount', title=\"Composition of member portfolio - 2022-11-17\")\n"
   ]
  },
  {
   "cell_type": "markdown",
   "metadata": {},
   "source": [
    "#### Step 4: Using Python, determine if the current portfolio has enough to create an emergency fund as part of the member’s financial plan. Ideally, an emergency fund should equal to three times the member’s monthly income. To do this, implement the following steps:\n",
    "\n",
    "Step 1. Create a variable named `emergency_fund_value`, and set it equal to three times the value of the member’s `monthly_income` of 12000. (You set this earlier in Part 1).\n",
    "\n",
    "Step 2. Create a series of three if statements to determine if the member’s total portfolio is large enough to fund the emergency portfolio:\n",
    "\n",
    "* If the total portfolio value is greater than the emergency fund value, display a message congratulating the member for having enough money in this fund.\n",
    "\n",
    "* Else if the total portfolio value is equal to the emergency fund value, display a message congratulating the member on reaching this important financial goal.\n",
    "\n",
    "* Else the total portfolio is less than the emergency fund value, so display a message showing how many dollars away the member is from reaching the goal. (Subtract the total portfolio value from the emergency fund value.)\n"
   ]
  },
  {
   "cell_type": "markdown",
   "metadata": {},
   "source": [
    "##### Step 4-1: Create a variable named `emergency_fund_value`, and set it equal to three times the value of the member’s `monthly_income` of 12000. (You set this earlier in Part 1)."
   ]
  },
  {
   "cell_type": "code",
   "execution_count": 26,
   "metadata": {},
   "outputs": [
    {
     "name": "stdout",
     "output_type": "stream",
     "text": [
      "The emergency fund is $36000\n"
     ]
    }
   ],
   "source": [
    "# Create a variable named emergency_fund_value\n",
    "emergency_fund_value = 3 * monthly_income\n",
    "print(f\"The emergency fund is ${emergency_fund_value}\")\n"
   ]
  },
  {
   "cell_type": "markdown",
   "metadata": {},
   "source": [
    "##### Step 4-2: Create a series of three if statements to determine if the member’s total portfolio is large enough to fund the emergency portfolio:\n",
    "\n",
    "* If the total portfolio value is greater than the emergency fund value, display a message congratulating the member for having enough money in this fund.\n",
    "\n",
    "* Else if the total portfolio value is equal to the emergency fund value, display a message congratulating the member on reaching this important financial goal.\n",
    "\n",
    "* Else the total portfolio is less than the emergency fund value, so display a message showing how many dollars away the member is from reaching the goal. (Subtract the total portfolio value from the emergency fund value.)"
   ]
  },
  {
   "cell_type": "code",
   "execution_count": 27,
   "metadata": {},
   "outputs": [
    {
     "name": "stdout",
     "output_type": "stream",
     "text": [
      "Congratulations you have enough money in this fund\n"
     ]
    }
   ],
   "source": [
    "# Evaluate the possibility of creating an emergency fund with 3 conditions:\n",
    "if total_portfolio > emergency_fund_value:\n",
    "    print(f\"Congratulations you have enough money in this fund\")\n",
    "elif total_portfolio == emergency_fund_value:\n",
    "    print(f\"congratulations you are reaching on important financial goal\")\n",
    "else:\n",
    "        total_portfolio < emergency_fund_value\n",
    "        print(f\" you are ${total_portfolio-emergency_fund_value} away from reaching goal\")\n",
    "\n"
   ]
  },
  {
   "cell_type": "markdown",
   "metadata": {},
   "source": [
    "## Part 2: Create a Financial Planner for Retirement"
   ]
  },
  {
   "cell_type": "markdown",
   "metadata": {},
   "source": [
    "### Create the Monte Carlo Simulation\n",
    "\n",
    "In this section, you’ll use the MCForecastTools library to create a Monte Carlo simulation for the member’s savings portfolio. To do this, complete the following steps:\n",
    "\n",
    "1. Make an API call via the Alpaca SDK to get 3 years of historical closing prices for a traditional 60/40 portfolio split: 60% stocks (SPY) and 40% bonds (AGG).\n",
    "\n",
    "2. Run a Monte Carlo simulation of 500 samples and 30 years for the 60/40 portfolio, and then plot the results.The following image shows the overlay line plot resulting from a simulation with these characteristics. However, because a random number generator is used to run each live Monte Carlo simulation, your image will differ slightly from this exact image:\n",
    "\n",
    "![A screenshot depicts the resulting plot.](Images/5-4-monte-carlo-line-plot.png)\n",
    "\n",
    "3. Plot the probability distribution of the Monte Carlo simulation. Plot the probability distribution of the Monte Carlo simulation. The following image shows the histogram plot resulting from a simulation with these characteristics. However, because a random number generator is used to run each live Monte Carlo simulation, your image will differ slightly from this exact image:\n",
    "\n",
    "![A screenshot depicts the histogram plot.](Images/5-4-monte-carlo-histogram.png)\n",
    "\n",
    "4. Generate the summary statistics for the Monte Carlo simulation.\n",
    "\n"
   ]
  },
  {
   "cell_type": "markdown",
   "metadata": {},
   "source": [
    "#### Step 1: Make an API call via the Alpaca SDK to get 3 years of historical closing prices for a traditional 60/40 portfolio split: 60% stocks (SPY) and 40% bonds (AGG)."
   ]
  },
  {
   "cell_type": "code",
   "execution_count": 28,
   "metadata": {},
   "outputs": [],
   "source": [
    "# Set start and end dates of 3 years back from your current date\n",
    "# Alternatively, you can use an end date of 2020-08-07 and work 3 years back from that date \n",
    "\n",
    "start_date = pd.Timestamp(\"2019-11-17\", tz=\"America/New_York\").isoformat()\n",
    "end_date = pd.Timestamp(\"2022-11-17\", tz=\"America/New_York\").isoformat()"
   ]
  },
  {
   "cell_type": "code",
   "execution_count": 33,
   "metadata": {},
   "outputs": [
    {
     "data": {
      "text/html": [
       "<div>\n",
       "<style scoped>\n",
       "    .dataframe tbody tr th:only-of-type {\n",
       "        vertical-align: middle;\n",
       "    }\n",
       "\n",
       "    .dataframe tbody tr th {\n",
       "        vertical-align: top;\n",
       "    }\n",
       "\n",
       "    .dataframe thead tr th {\n",
       "        text-align: left;\n",
       "    }\n",
       "\n",
       "    .dataframe thead tr:last-of-type th {\n",
       "        text-align: right;\n",
       "    }\n",
       "</style>\n",
       "<table border=\"1\" class=\"dataframe\">\n",
       "  <thead>\n",
       "    <tr>\n",
       "      <th></th>\n",
       "      <th colspan=\"7\" halign=\"left\">SPY</th>\n",
       "      <th colspan=\"7\" halign=\"left\">AGG</th>\n",
       "    </tr>\n",
       "    <tr>\n",
       "      <th></th>\n",
       "      <th>open</th>\n",
       "      <th>high</th>\n",
       "      <th>low</th>\n",
       "      <th>close</th>\n",
       "      <th>volume</th>\n",
       "      <th>trade_count</th>\n",
       "      <th>vwap</th>\n",
       "      <th>open</th>\n",
       "      <th>high</th>\n",
       "      <th>low</th>\n",
       "      <th>close</th>\n",
       "      <th>volume</th>\n",
       "      <th>trade_count</th>\n",
       "      <th>vwap</th>\n",
       "    </tr>\n",
       "    <tr>\n",
       "      <th>timestamp</th>\n",
       "      <th></th>\n",
       "      <th></th>\n",
       "      <th></th>\n",
       "      <th></th>\n",
       "      <th></th>\n",
       "      <th></th>\n",
       "      <th></th>\n",
       "      <th></th>\n",
       "      <th></th>\n",
       "      <th></th>\n",
       "      <th></th>\n",
       "      <th></th>\n",
       "      <th></th>\n",
       "      <th></th>\n",
       "    </tr>\n",
       "  </thead>\n",
       "  <tbody>\n",
       "    <tr>\n",
       "      <th>2019-11-18 05:00:00+00:00</th>\n",
       "      <td>311.53</td>\n",
       "      <td>312.28</td>\n",
       "      <td>311.03</td>\n",
       "      <td>311.98</td>\n",
       "      <td>50249492</td>\n",
       "      <td>203344</td>\n",
       "      <td>311.812773</td>\n",
       "      <td>112.56</td>\n",
       "      <td>112.6460</td>\n",
       "      <td>112.5200</td>\n",
       "      <td>112.62</td>\n",
       "      <td>6044518</td>\n",
       "      <td>13537</td>\n",
       "      <td>112.604019</td>\n",
       "    </tr>\n",
       "    <tr>\n",
       "      <th>2019-11-19 05:00:00+00:00</th>\n",
       "      <td>312.68</td>\n",
       "      <td>312.69</td>\n",
       "      <td>311.22</td>\n",
       "      <td>311.91</td>\n",
       "      <td>71272497</td>\n",
       "      <td>230880</td>\n",
       "      <td>312.009439</td>\n",
       "      <td>112.63</td>\n",
       "      <td>112.7600</td>\n",
       "      <td>112.6000</td>\n",
       "      <td>112.70</td>\n",
       "      <td>2656090</td>\n",
       "      <td>10232</td>\n",
       "      <td>112.700069</td>\n",
       "    </tr>\n",
       "    <tr>\n",
       "      <th>2019-11-20 05:00:00+00:00</th>\n",
       "      <td>311.28</td>\n",
       "      <td>311.85</td>\n",
       "      <td>309.06</td>\n",
       "      <td>310.81</td>\n",
       "      <td>79719841</td>\n",
       "      <td>381793</td>\n",
       "      <td>310.657500</td>\n",
       "      <td>112.83</td>\n",
       "      <td>112.9800</td>\n",
       "      <td>112.8050</td>\n",
       "      <td>112.97</td>\n",
       "      <td>3474498</td>\n",
       "      <td>14795</td>\n",
       "      <td>112.903444</td>\n",
       "    </tr>\n",
       "    <tr>\n",
       "      <th>2019-11-21 05:00:00+00:00</th>\n",
       "      <td>310.89</td>\n",
       "      <td>311.01</td>\n",
       "      <td>309.39</td>\n",
       "      <td>310.30</td>\n",
       "      <td>54689005</td>\n",
       "      <td>239122</td>\n",
       "      <td>310.314550</td>\n",
       "      <td>112.80</td>\n",
       "      <td>112.8859</td>\n",
       "      <td>112.7200</td>\n",
       "      <td>112.81</td>\n",
       "      <td>6522830</td>\n",
       "      <td>14450</td>\n",
       "      <td>112.797968</td>\n",
       "    </tr>\n",
       "    <tr>\n",
       "      <th>2019-11-22 05:00:00+00:00</th>\n",
       "      <td>311.09</td>\n",
       "      <td>311.24</td>\n",
       "      <td>309.85</td>\n",
       "      <td>311.02</td>\n",
       "      <td>44851102</td>\n",
       "      <td>184088</td>\n",
       "      <td>310.780328</td>\n",
       "      <td>112.89</td>\n",
       "      <td>112.9000</td>\n",
       "      <td>112.7605</td>\n",
       "      <td>112.87</td>\n",
       "      <td>2509158</td>\n",
       "      <td>9837</td>\n",
       "      <td>112.853991</td>\n",
       "    </tr>\n",
       "  </tbody>\n",
       "</table>\n",
       "</div>"
      ],
      "text/plain": [
       "                              SPY                                    \\\n",
       "                             open    high     low   close    volume   \n",
       "timestamp                                                             \n",
       "2019-11-18 05:00:00+00:00  311.53  312.28  311.03  311.98  50249492   \n",
       "2019-11-19 05:00:00+00:00  312.68  312.69  311.22  311.91  71272497   \n",
       "2019-11-20 05:00:00+00:00  311.28  311.85  309.06  310.81  79719841   \n",
       "2019-11-21 05:00:00+00:00  310.89  311.01  309.39  310.30  54689005   \n",
       "2019-11-22 05:00:00+00:00  311.09  311.24  309.85  311.02  44851102   \n",
       "\n",
       "                                                      AGG                      \\\n",
       "                          trade_count        vwap    open      high       low   \n",
       "timestamp                                                                       \n",
       "2019-11-18 05:00:00+00:00      203344  311.812773  112.56  112.6460  112.5200   \n",
       "2019-11-19 05:00:00+00:00      230880  312.009439  112.63  112.7600  112.6000   \n",
       "2019-11-20 05:00:00+00:00      381793  310.657500  112.83  112.9800  112.8050   \n",
       "2019-11-21 05:00:00+00:00      239122  310.314550  112.80  112.8859  112.7200   \n",
       "2019-11-22 05:00:00+00:00      184088  310.780328  112.89  112.9000  112.7605   \n",
       "\n",
       "                                                                    \n",
       "                            close   volume trade_count        vwap  \n",
       "timestamp                                                           \n",
       "2019-11-18 05:00:00+00:00  112.62  6044518       13537  112.604019  \n",
       "2019-11-19 05:00:00+00:00  112.70  2656090       10232  112.700069  \n",
       "2019-11-20 05:00:00+00:00  112.97  3474498       14795  112.903444  \n",
       "2019-11-21 05:00:00+00:00  112.81  6522830       14450  112.797968  \n",
       "2019-11-22 05:00:00+00:00  112.87  2509158        9837  112.853991  "
      ]
     },
     "metadata": {},
     "output_type": "display_data"
    },
    {
     "data": {
      "text/html": [
       "<div>\n",
       "<style scoped>\n",
       "    .dataframe tbody tr th:only-of-type {\n",
       "        vertical-align: middle;\n",
       "    }\n",
       "\n",
       "    .dataframe tbody tr th {\n",
       "        vertical-align: top;\n",
       "    }\n",
       "\n",
       "    .dataframe thead tr th {\n",
       "        text-align: left;\n",
       "    }\n",
       "\n",
       "    .dataframe thead tr:last-of-type th {\n",
       "        text-align: right;\n",
       "    }\n",
       "</style>\n",
       "<table border=\"1\" class=\"dataframe\">\n",
       "  <thead>\n",
       "    <tr>\n",
       "      <th></th>\n",
       "      <th colspan=\"7\" halign=\"left\">SPY</th>\n",
       "      <th colspan=\"7\" halign=\"left\">AGG</th>\n",
       "    </tr>\n",
       "    <tr>\n",
       "      <th></th>\n",
       "      <th>open</th>\n",
       "      <th>high</th>\n",
       "      <th>low</th>\n",
       "      <th>close</th>\n",
       "      <th>volume</th>\n",
       "      <th>trade_count</th>\n",
       "      <th>vwap</th>\n",
       "      <th>open</th>\n",
       "      <th>high</th>\n",
       "      <th>low</th>\n",
       "      <th>close</th>\n",
       "      <th>volume</th>\n",
       "      <th>trade_count</th>\n",
       "      <th>vwap</th>\n",
       "    </tr>\n",
       "    <tr>\n",
       "      <th>timestamp</th>\n",
       "      <th></th>\n",
       "      <th></th>\n",
       "      <th></th>\n",
       "      <th></th>\n",
       "      <th></th>\n",
       "      <th></th>\n",
       "      <th></th>\n",
       "      <th></th>\n",
       "      <th></th>\n",
       "      <th></th>\n",
       "      <th></th>\n",
       "      <th></th>\n",
       "      <th></th>\n",
       "      <th></th>\n",
       "    </tr>\n",
       "  </thead>\n",
       "  <tbody>\n",
       "    <tr>\n",
       "      <th>2022-11-11 05:00:00+00:00</th>\n",
       "      <td>395.59</td>\n",
       "      <td>399.3500</td>\n",
       "      <td>393.61</td>\n",
       "      <td>398.51</td>\n",
       "      <td>93424999</td>\n",
       "      <td>650078</td>\n",
       "      <td>396.974145</td>\n",
       "      <td>96.23</td>\n",
       "      <td>96.605</td>\n",
       "      <td>96.230</td>\n",
       "      <td>96.51</td>\n",
       "      <td>4945326</td>\n",
       "      <td>17243</td>\n",
       "      <td>96.478436</td>\n",
       "    </tr>\n",
       "    <tr>\n",
       "      <th>2022-11-14 05:00:00+00:00</th>\n",
       "      <td>396.66</td>\n",
       "      <td>400.1799</td>\n",
       "      <td>394.83</td>\n",
       "      <td>395.12</td>\n",
       "      <td>71676295</td>\n",
       "      <td>526259</td>\n",
       "      <td>397.620023</td>\n",
       "      <td>96.43</td>\n",
       "      <td>96.450</td>\n",
       "      <td>96.175</td>\n",
       "      <td>96.24</td>\n",
       "      <td>7456359</td>\n",
       "      <td>21388</td>\n",
       "      <td>96.289535</td>\n",
       "    </tr>\n",
       "    <tr>\n",
       "      <th>2022-11-15 05:00:00+00:00</th>\n",
       "      <td>401.15</td>\n",
       "      <td>402.3100</td>\n",
       "      <td>394.49</td>\n",
       "      <td>398.49</td>\n",
       "      <td>92409003</td>\n",
       "      <td>743707</td>\n",
       "      <td>398.793190</td>\n",
       "      <td>96.80</td>\n",
       "      <td>96.950</td>\n",
       "      <td>96.605</td>\n",
       "      <td>96.95</td>\n",
       "      <td>7941868</td>\n",
       "      <td>24637</td>\n",
       "      <td>96.833059</td>\n",
       "    </tr>\n",
       "    <tr>\n",
       "      <th>2022-11-16 05:00:00+00:00</th>\n",
       "      <td>396.78</td>\n",
       "      <td>397.7800</td>\n",
       "      <td>394.79</td>\n",
       "      <td>395.45</td>\n",
       "      <td>67912256</td>\n",
       "      <td>480807</td>\n",
       "      <td>396.093557</td>\n",
       "      <td>97.25</td>\n",
       "      <td>97.630</td>\n",
       "      <td>97.135</td>\n",
       "      <td>97.55</td>\n",
       "      <td>10979915</td>\n",
       "      <td>28659</td>\n",
       "      <td>97.397368</td>\n",
       "    </tr>\n",
       "    <tr>\n",
       "      <th>2022-11-17 05:00:00+00:00</th>\n",
       "      <td>390.46</td>\n",
       "      <td>394.9500</td>\n",
       "      <td>390.14</td>\n",
       "      <td>394.24</td>\n",
       "      <td>74165955</td>\n",
       "      <td>496852</td>\n",
       "      <td>392.809764</td>\n",
       "      <td>97.03</td>\n",
       "      <td>97.165</td>\n",
       "      <td>96.850</td>\n",
       "      <td>97.14</td>\n",
       "      <td>6858308</td>\n",
       "      <td>21862</td>\n",
       "      <td>97.041575</td>\n",
       "    </tr>\n",
       "  </tbody>\n",
       "</table>\n",
       "</div>"
      ],
      "text/plain": [
       "                              SPY                                      \\\n",
       "                             open      high     low   close    volume   \n",
       "timestamp                                                               \n",
       "2022-11-11 05:00:00+00:00  395.59  399.3500  393.61  398.51  93424999   \n",
       "2022-11-14 05:00:00+00:00  396.66  400.1799  394.83  395.12  71676295   \n",
       "2022-11-15 05:00:00+00:00  401.15  402.3100  394.49  398.49  92409003   \n",
       "2022-11-16 05:00:00+00:00  396.78  397.7800  394.79  395.45  67912256   \n",
       "2022-11-17 05:00:00+00:00  390.46  394.9500  390.14  394.24  74165955   \n",
       "\n",
       "                                                     AGG                  \\\n",
       "                          trade_count        vwap   open    high     low   \n",
       "timestamp                                                                  \n",
       "2022-11-11 05:00:00+00:00      650078  396.974145  96.23  96.605  96.230   \n",
       "2022-11-14 05:00:00+00:00      526259  397.620023  96.43  96.450  96.175   \n",
       "2022-11-15 05:00:00+00:00      743707  398.793190  96.80  96.950  96.605   \n",
       "2022-11-16 05:00:00+00:00      480807  396.093557  97.25  97.630  97.135   \n",
       "2022-11-17 05:00:00+00:00      496852  392.809764  97.03  97.165  96.850   \n",
       "\n",
       "                                                                   \n",
       "                           close    volume trade_count       vwap  \n",
       "timestamp                                                          \n",
       "2022-11-11 05:00:00+00:00  96.51   4945326       17243  96.478436  \n",
       "2022-11-14 05:00:00+00:00  96.24   7456359       21388  96.289535  \n",
       "2022-11-15 05:00:00+00:00  96.95   7941868       24637  96.833059  \n",
       "2022-11-16 05:00:00+00:00  97.55  10979915       28659  97.397368  \n",
       "2022-11-17 05:00:00+00:00  97.14   6858308       21862  97.041575  "
      ]
     },
     "metadata": {},
     "output_type": "display_data"
    }
   ],
   "source": [
    "# Use the Alpaca get_bars function to make the API call to get the 3 years worth of pricing data\n",
    "# The tickers and timeframe parameters should have been set in Part 1 of this activity \n",
    "# The start and end dates should be updated with the information set above\n",
    "# Remember to add the df property to the end of the call so the response is returned as a DataFrame\n",
    "portfolio_prices_df = alpaca.get_bars(\n",
    "    tickers,\n",
    "    timeframe,\n",
    "    start=start_date,\n",
    "    end=end_date\n",
    ").df\n",
    "\n",
    "# Reorganize the DataFrame\n",
    "# Separate ticker data\n",
    "SPY = portfolio_prices_df[portfolio_prices_df['symbol']=='SPY'].drop('symbol', axis=1)\n",
    "AGG = portfolio_prices_df[portfolio_prices_df['symbol']=='AGG'].drop('symbol', axis=1)\n",
    "\n",
    "# Concatenate the ticker DataFrames\n",
    "portfolio_prices_df = pd.concat([SPY, AGG], axis=1, keys=[\"SPY\", \"AGG\"])\n",
    "\n",
    "# Display both the first and last five rows of the DataFrame\n",
    "display(portfolio_prices_df.head())\n",
    "display(portfolio_prices_df.tail())"
   ]
  },
  {
   "cell_type": "markdown",
   "metadata": {},
   "source": [
    "#### Step 2: Run a Monte Carlo simulation of 500 samples and 30 years for the 60/40 portfolio, and then plot the results."
   ]
  },
  {
   "cell_type": "code",
   "execution_count": 44,
   "metadata": {},
   "outputs": [
    {
     "data": {
      "text/html": [
       "<div>\n",
       "<style scoped>\n",
       "    .dataframe tbody tr th:only-of-type {\n",
       "        vertical-align: middle;\n",
       "    }\n",
       "\n",
       "    .dataframe tbody tr th {\n",
       "        vertical-align: top;\n",
       "    }\n",
       "\n",
       "    .dataframe thead tr th {\n",
       "        text-align: left;\n",
       "    }\n",
       "\n",
       "    .dataframe thead tr:last-of-type th {\n",
       "        text-align: right;\n",
       "    }\n",
       "</style>\n",
       "<table border=\"1\" class=\"dataframe\">\n",
       "  <thead>\n",
       "    <tr>\n",
       "      <th></th>\n",
       "      <th colspan=\"8\" halign=\"left\">SPY</th>\n",
       "      <th colspan=\"8\" halign=\"left\">AGG</th>\n",
       "    </tr>\n",
       "    <tr>\n",
       "      <th></th>\n",
       "      <th>open</th>\n",
       "      <th>high</th>\n",
       "      <th>low</th>\n",
       "      <th>close</th>\n",
       "      <th>volume</th>\n",
       "      <th>trade_count</th>\n",
       "      <th>vwap</th>\n",
       "      <th>daily_return</th>\n",
       "      <th>open</th>\n",
       "      <th>high</th>\n",
       "      <th>low</th>\n",
       "      <th>close</th>\n",
       "      <th>volume</th>\n",
       "      <th>trade_count</th>\n",
       "      <th>vwap</th>\n",
       "      <th>daily_return</th>\n",
       "    </tr>\n",
       "    <tr>\n",
       "      <th>timestamp</th>\n",
       "      <th></th>\n",
       "      <th></th>\n",
       "      <th></th>\n",
       "      <th></th>\n",
       "      <th></th>\n",
       "      <th></th>\n",
       "      <th></th>\n",
       "      <th></th>\n",
       "      <th></th>\n",
       "      <th></th>\n",
       "      <th></th>\n",
       "      <th></th>\n",
       "      <th></th>\n",
       "      <th></th>\n",
       "      <th></th>\n",
       "      <th></th>\n",
       "    </tr>\n",
       "  </thead>\n",
       "  <tbody>\n",
       "    <tr>\n",
       "      <th>2019-11-18 05:00:00+00:00</th>\n",
       "      <td>311.53</td>\n",
       "      <td>312.28</td>\n",
       "      <td>311.03</td>\n",
       "      <td>311.98</td>\n",
       "      <td>50249492</td>\n",
       "      <td>203344</td>\n",
       "      <td>311.812773</td>\n",
       "      <td>NaN</td>\n",
       "      <td>112.56</td>\n",
       "      <td>112.6460</td>\n",
       "      <td>112.5200</td>\n",
       "      <td>112.62</td>\n",
       "      <td>6044518</td>\n",
       "      <td>13537</td>\n",
       "      <td>112.604019</td>\n",
       "      <td>NaN</td>\n",
       "    </tr>\n",
       "    <tr>\n",
       "      <th>2019-11-19 05:00:00+00:00</th>\n",
       "      <td>312.68</td>\n",
       "      <td>312.69</td>\n",
       "      <td>311.22</td>\n",
       "      <td>311.91</td>\n",
       "      <td>71272497</td>\n",
       "      <td>230880</td>\n",
       "      <td>312.009439</td>\n",
       "      <td>-0.000224</td>\n",
       "      <td>112.63</td>\n",
       "      <td>112.7600</td>\n",
       "      <td>112.6000</td>\n",
       "      <td>112.70</td>\n",
       "      <td>2656090</td>\n",
       "      <td>10232</td>\n",
       "      <td>112.700069</td>\n",
       "      <td>0.000710</td>\n",
       "    </tr>\n",
       "    <tr>\n",
       "      <th>2019-11-20 05:00:00+00:00</th>\n",
       "      <td>311.28</td>\n",
       "      <td>311.85</td>\n",
       "      <td>309.06</td>\n",
       "      <td>310.81</td>\n",
       "      <td>79719841</td>\n",
       "      <td>381793</td>\n",
       "      <td>310.657500</td>\n",
       "      <td>-0.003527</td>\n",
       "      <td>112.83</td>\n",
       "      <td>112.9800</td>\n",
       "      <td>112.8050</td>\n",
       "      <td>112.97</td>\n",
       "      <td>3474498</td>\n",
       "      <td>14795</td>\n",
       "      <td>112.903444</td>\n",
       "      <td>0.002396</td>\n",
       "    </tr>\n",
       "    <tr>\n",
       "      <th>2019-11-21 05:00:00+00:00</th>\n",
       "      <td>310.89</td>\n",
       "      <td>311.01</td>\n",
       "      <td>309.39</td>\n",
       "      <td>310.30</td>\n",
       "      <td>54689005</td>\n",
       "      <td>239122</td>\n",
       "      <td>310.314550</td>\n",
       "      <td>-0.001641</td>\n",
       "      <td>112.80</td>\n",
       "      <td>112.8859</td>\n",
       "      <td>112.7200</td>\n",
       "      <td>112.81</td>\n",
       "      <td>6522830</td>\n",
       "      <td>14450</td>\n",
       "      <td>112.797968</td>\n",
       "      <td>-0.001416</td>\n",
       "    </tr>\n",
       "    <tr>\n",
       "      <th>2019-11-22 05:00:00+00:00</th>\n",
       "      <td>311.09</td>\n",
       "      <td>311.24</td>\n",
       "      <td>309.85</td>\n",
       "      <td>311.02</td>\n",
       "      <td>44851102</td>\n",
       "      <td>184088</td>\n",
       "      <td>310.780328</td>\n",
       "      <td>0.002320</td>\n",
       "      <td>112.89</td>\n",
       "      <td>112.9000</td>\n",
       "      <td>112.7605</td>\n",
       "      <td>112.87</td>\n",
       "      <td>2509158</td>\n",
       "      <td>9837</td>\n",
       "      <td>112.853991</td>\n",
       "      <td>0.000532</td>\n",
       "    </tr>\n",
       "  </tbody>\n",
       "</table>\n",
       "</div>"
      ],
      "text/plain": [
       "                              SPY                                    \\\n",
       "                             open    high     low   close    volume   \n",
       "timestamp                                                             \n",
       "2019-11-18 05:00:00+00:00  311.53  312.28  311.03  311.98  50249492   \n",
       "2019-11-19 05:00:00+00:00  312.68  312.69  311.22  311.91  71272497   \n",
       "2019-11-20 05:00:00+00:00  311.28  311.85  309.06  310.81  79719841   \n",
       "2019-11-21 05:00:00+00:00  310.89  311.01  309.39  310.30  54689005   \n",
       "2019-11-22 05:00:00+00:00  311.09  311.24  309.85  311.02  44851102   \n",
       "\n",
       "                                                                   AGG  \\\n",
       "                          trade_count        vwap daily_return    open   \n",
       "timestamp                                                                \n",
       "2019-11-18 05:00:00+00:00      203344  311.812773          NaN  112.56   \n",
       "2019-11-19 05:00:00+00:00      230880  312.009439    -0.000224  112.63   \n",
       "2019-11-20 05:00:00+00:00      381793  310.657500    -0.003527  112.83   \n",
       "2019-11-21 05:00:00+00:00      239122  310.314550    -0.001641  112.80   \n",
       "2019-11-22 05:00:00+00:00      184088  310.780328     0.002320  112.89   \n",
       "\n",
       "                                                                            \\\n",
       "                               high       low   close   volume trade_count   \n",
       "timestamp                                                                    \n",
       "2019-11-18 05:00:00+00:00  112.6460  112.5200  112.62  6044518       13537   \n",
       "2019-11-19 05:00:00+00:00  112.7600  112.6000  112.70  2656090       10232   \n",
       "2019-11-20 05:00:00+00:00  112.9800  112.8050  112.97  3474498       14795   \n",
       "2019-11-21 05:00:00+00:00  112.8859  112.7200  112.81  6522830       14450   \n",
       "2019-11-22 05:00:00+00:00  112.9000  112.7605  112.87  2509158        9837   \n",
       "\n",
       "                                                    \n",
       "                                 vwap daily_return  \n",
       "timestamp                                           \n",
       "2019-11-18 05:00:00+00:00  112.604019          NaN  \n",
       "2019-11-19 05:00:00+00:00  112.700069     0.000710  \n",
       "2019-11-20 05:00:00+00:00  112.903444     0.002396  \n",
       "2019-11-21 05:00:00+00:00  112.797968    -0.001416  \n",
       "2019-11-22 05:00:00+00:00  112.853991     0.000532  "
      ]
     },
     "execution_count": 44,
     "metadata": {},
     "output_type": "execute_result"
    }
   ],
   "source": [
    "# Configure the Monte Carlo simulation to forecast 30 years cumulative returns\n",
    "# The weights should be split 40% to AGG and 60% to SPY.\n",
    "# Run 500 samples.\n",
    "MC_6040_weight = MCSimulation(\n",
    "    portfolio_data = portfolio_prices_df,\n",
    "    weights = [.60, .40],\n",
    "    num_simulation = 500,\n",
    "    num_trading_days = 252*30\n",
    ")\n",
    "\n",
    "# Review the simulation input data\n",
    "MC_6040_weight.portfolio_data.head()\n"
   ]
  },
  {
   "cell_type": "code",
   "execution_count": 45,
   "metadata": {},
   "outputs": [
    {
     "name": "stdout",
     "output_type": "stream",
     "text": [
      "Running Monte Carlo simulation number 0.\n",
      "Running Monte Carlo simulation number 10.\n",
      "Running Monte Carlo simulation number 20.\n",
      "Running Monte Carlo simulation number 30.\n",
      "Running Monte Carlo simulation number 40.\n",
      "Running Monte Carlo simulation number 50.\n",
      "Running Monte Carlo simulation number 60.\n",
      "Running Monte Carlo simulation number 70.\n",
      "Running Monte Carlo simulation number 80.\n",
      "Running Monte Carlo simulation number 90.\n",
      "Running Monte Carlo simulation number 100.\n"
     ]
    },
    {
     "name": "stderr",
     "output_type": "stream",
     "text": [
      "C:\\Users\\madhu\\Fintech-workspace\\Module5_Assignment\\Starter_Code\\MCForecastTools.py:117: PerformanceWarning: DataFrame is highly fragmented.  This is usually the result of calling `frame.insert` many times, which has poor performance.  Consider joining all columns at once using pd.concat(axis=1) instead.  To get a de-fragmented frame, use `newframe = frame.copy()`\n",
      "  portfolio_cumulative_returns[n] = (1 + sim_df.fillna(0)).cumprod()\n"
     ]
    },
    {
     "name": "stdout",
     "output_type": "stream",
     "text": [
      "Running Monte Carlo simulation number 110.\n",
      "Running Monte Carlo simulation number 120.\n",
      "Running Monte Carlo simulation number 130.\n",
      "Running Monte Carlo simulation number 140.\n",
      "Running Monte Carlo simulation number 150.\n",
      "Running Monte Carlo simulation number 160.\n",
      "Running Monte Carlo simulation number 170.\n",
      "Running Monte Carlo simulation number 180.\n",
      "Running Monte Carlo simulation number 190.\n",
      "Running Monte Carlo simulation number 200.\n",
      "Running Monte Carlo simulation number 210.\n",
      "Running Monte Carlo simulation number 220.\n",
      "Running Monte Carlo simulation number 230.\n",
      "Running Monte Carlo simulation number 240.\n",
      "Running Monte Carlo simulation number 250.\n",
      "Running Monte Carlo simulation number 260.\n",
      "Running Monte Carlo simulation number 270.\n",
      "Running Monte Carlo simulation number 280.\n",
      "Running Monte Carlo simulation number 290.\n",
      "Running Monte Carlo simulation number 300.\n",
      "Running Monte Carlo simulation number 310.\n",
      "Running Monte Carlo simulation number 320.\n",
      "Running Monte Carlo simulation number 330.\n",
      "Running Monte Carlo simulation number 340.\n",
      "Running Monte Carlo simulation number 350.\n",
      "Running Monte Carlo simulation number 360.\n",
      "Running Monte Carlo simulation number 370.\n",
      "Running Monte Carlo simulation number 380.\n",
      "Running Monte Carlo simulation number 390.\n",
      "Running Monte Carlo simulation number 400.\n",
      "Running Monte Carlo simulation number 410.\n",
      "Running Monte Carlo simulation number 420.\n",
      "Running Monte Carlo simulation number 430.\n",
      "Running Monte Carlo simulation number 440.\n",
      "Running Monte Carlo simulation number 450.\n",
      "Running Monte Carlo simulation number 460.\n",
      "Running Monte Carlo simulation number 470.\n",
      "Running Monte Carlo simulation number 480.\n",
      "Running Monte Carlo simulation number 490.\n"
     ]
    },
    {
     "data": {
      "text/html": [
       "<div>\n",
       "<style scoped>\n",
       "    .dataframe tbody tr th:only-of-type {\n",
       "        vertical-align: middle;\n",
       "    }\n",
       "\n",
       "    .dataframe tbody tr th {\n",
       "        vertical-align: top;\n",
       "    }\n",
       "\n",
       "    .dataframe thead th {\n",
       "        text-align: right;\n",
       "    }\n",
       "</style>\n",
       "<table border=\"1\" class=\"dataframe\">\n",
       "  <thead>\n",
       "    <tr style=\"text-align: right;\">\n",
       "      <th></th>\n",
       "      <th>0</th>\n",
       "      <th>1</th>\n",
       "      <th>2</th>\n",
       "      <th>3</th>\n",
       "      <th>4</th>\n",
       "      <th>5</th>\n",
       "      <th>6</th>\n",
       "      <th>7</th>\n",
       "      <th>8</th>\n",
       "      <th>9</th>\n",
       "      <th>...</th>\n",
       "      <th>490</th>\n",
       "      <th>491</th>\n",
       "      <th>492</th>\n",
       "      <th>493</th>\n",
       "      <th>494</th>\n",
       "      <th>495</th>\n",
       "      <th>496</th>\n",
       "      <th>497</th>\n",
       "      <th>498</th>\n",
       "      <th>499</th>\n",
       "    </tr>\n",
       "  </thead>\n",
       "  <tbody>\n",
       "    <tr>\n",
       "      <th>0</th>\n",
       "      <td>1.000000</td>\n",
       "      <td>1.000000</td>\n",
       "      <td>1.000000</td>\n",
       "      <td>1.000000</td>\n",
       "      <td>1.000000</td>\n",
       "      <td>1.000000</td>\n",
       "      <td>1.000000</td>\n",
       "      <td>1.000000</td>\n",
       "      <td>1.000000</td>\n",
       "      <td>1.000000</td>\n",
       "      <td>...</td>\n",
       "      <td>1.000000</td>\n",
       "      <td>1.000000</td>\n",
       "      <td>1.000000</td>\n",
       "      <td>1.000000</td>\n",
       "      <td>1.000000</td>\n",
       "      <td>1.000000</td>\n",
       "      <td>1.000000</td>\n",
       "      <td>1.000000</td>\n",
       "      <td>1.000000</td>\n",
       "      <td>1.000000</td>\n",
       "    </tr>\n",
       "    <tr>\n",
       "      <th>1</th>\n",
       "      <td>1.012401</td>\n",
       "      <td>1.018831</td>\n",
       "      <td>0.990089</td>\n",
       "      <td>1.011737</td>\n",
       "      <td>1.006388</td>\n",
       "      <td>0.997611</td>\n",
       "      <td>1.006812</td>\n",
       "      <td>0.999803</td>\n",
       "      <td>1.020952</td>\n",
       "      <td>1.005280</td>\n",
       "      <td>...</td>\n",
       "      <td>0.994169</td>\n",
       "      <td>1.006203</td>\n",
       "      <td>0.983968</td>\n",
       "      <td>0.987509</td>\n",
       "      <td>0.999059</td>\n",
       "      <td>1.003941</td>\n",
       "      <td>1.012624</td>\n",
       "      <td>1.006157</td>\n",
       "      <td>1.001081</td>\n",
       "      <td>0.990977</td>\n",
       "    </tr>\n",
       "    <tr>\n",
       "      <th>2</th>\n",
       "      <td>0.994534</td>\n",
       "      <td>1.023748</td>\n",
       "      <td>0.993528</td>\n",
       "      <td>1.007961</td>\n",
       "      <td>1.017114</td>\n",
       "      <td>0.995836</td>\n",
       "      <td>1.014218</td>\n",
       "      <td>0.984729</td>\n",
       "      <td>1.028017</td>\n",
       "      <td>1.014026</td>\n",
       "      <td>...</td>\n",
       "      <td>0.995691</td>\n",
       "      <td>1.009558</td>\n",
       "      <td>0.975890</td>\n",
       "      <td>1.001508</td>\n",
       "      <td>1.010649</td>\n",
       "      <td>1.009054</td>\n",
       "      <td>1.007556</td>\n",
       "      <td>1.016537</td>\n",
       "      <td>1.001806</td>\n",
       "      <td>0.991192</td>\n",
       "    </tr>\n",
       "    <tr>\n",
       "      <th>3</th>\n",
       "      <td>0.997071</td>\n",
       "      <td>1.028452</td>\n",
       "      <td>1.006394</td>\n",
       "      <td>1.003601</td>\n",
       "      <td>1.011638</td>\n",
       "      <td>0.989489</td>\n",
       "      <td>1.023656</td>\n",
       "      <td>0.994395</td>\n",
       "      <td>1.024164</td>\n",
       "      <td>1.025858</td>\n",
       "      <td>...</td>\n",
       "      <td>0.995447</td>\n",
       "      <td>1.028129</td>\n",
       "      <td>0.971312</td>\n",
       "      <td>0.988881</td>\n",
       "      <td>1.007340</td>\n",
       "      <td>1.005213</td>\n",
       "      <td>1.019897</td>\n",
       "      <td>1.012544</td>\n",
       "      <td>1.008765</td>\n",
       "      <td>1.004603</td>\n",
       "    </tr>\n",
       "    <tr>\n",
       "      <th>4</th>\n",
       "      <td>0.998239</td>\n",
       "      <td>1.036496</td>\n",
       "      <td>0.996324</td>\n",
       "      <td>1.005538</td>\n",
       "      <td>1.006499</td>\n",
       "      <td>0.975381</td>\n",
       "      <td>1.029142</td>\n",
       "      <td>0.993862</td>\n",
       "      <td>1.028272</td>\n",
       "      <td>1.012496</td>\n",
       "      <td>...</td>\n",
       "      <td>0.976485</td>\n",
       "      <td>1.016134</td>\n",
       "      <td>0.970681</td>\n",
       "      <td>0.989862</td>\n",
       "      <td>1.017559</td>\n",
       "      <td>0.996708</td>\n",
       "      <td>1.033095</td>\n",
       "      <td>1.026437</td>\n",
       "      <td>1.002587</td>\n",
       "      <td>1.024716</td>\n",
       "    </tr>\n",
       "    <tr>\n",
       "      <th>...</th>\n",
       "      <td>...</td>\n",
       "      <td>...</td>\n",
       "      <td>...</td>\n",
       "      <td>...</td>\n",
       "      <td>...</td>\n",
       "      <td>...</td>\n",
       "      <td>...</td>\n",
       "      <td>...</td>\n",
       "      <td>...</td>\n",
       "      <td>...</td>\n",
       "      <td>...</td>\n",
       "      <td>...</td>\n",
       "      <td>...</td>\n",
       "      <td>...</td>\n",
       "      <td>...</td>\n",
       "      <td>...</td>\n",
       "      <td>...</td>\n",
       "      <td>...</td>\n",
       "      <td>...</td>\n",
       "      <td>...</td>\n",
       "      <td>...</td>\n",
       "    </tr>\n",
       "    <tr>\n",
       "      <th>7556</th>\n",
       "      <td>0.388908</td>\n",
       "      <td>4.902723</td>\n",
       "      <td>6.524555</td>\n",
       "      <td>2.560505</td>\n",
       "      <td>2.723373</td>\n",
       "      <td>8.245256</td>\n",
       "      <td>5.609979</td>\n",
       "      <td>1.054869</td>\n",
       "      <td>2.591264</td>\n",
       "      <td>9.169800</td>\n",
       "      <td>...</td>\n",
       "      <td>4.604009</td>\n",
       "      <td>0.696724</td>\n",
       "      <td>0.914878</td>\n",
       "      <td>0.520951</td>\n",
       "      <td>1.868173</td>\n",
       "      <td>3.894625</td>\n",
       "      <td>0.746690</td>\n",
       "      <td>2.005948</td>\n",
       "      <td>1.582287</td>\n",
       "      <td>0.844107</td>\n",
       "    </tr>\n",
       "    <tr>\n",
       "      <th>7557</th>\n",
       "      <td>0.390039</td>\n",
       "      <td>4.897193</td>\n",
       "      <td>6.394879</td>\n",
       "      <td>2.543006</td>\n",
       "      <td>2.723678</td>\n",
       "      <td>8.239033</td>\n",
       "      <td>5.609663</td>\n",
       "      <td>1.046536</td>\n",
       "      <td>2.619650</td>\n",
       "      <td>9.168680</td>\n",
       "      <td>...</td>\n",
       "      <td>4.622385</td>\n",
       "      <td>0.696778</td>\n",
       "      <td>0.918752</td>\n",
       "      <td>0.516971</td>\n",
       "      <td>1.883347</td>\n",
       "      <td>3.875873</td>\n",
       "      <td>0.759146</td>\n",
       "      <td>2.006590</td>\n",
       "      <td>1.575266</td>\n",
       "      <td>0.850849</td>\n",
       "    </tr>\n",
       "    <tr>\n",
       "      <th>7558</th>\n",
       "      <td>0.384385</td>\n",
       "      <td>4.880810</td>\n",
       "      <td>6.307220</td>\n",
       "      <td>2.532785</td>\n",
       "      <td>2.713368</td>\n",
       "      <td>8.208952</td>\n",
       "      <td>5.588034</td>\n",
       "      <td>1.052834</td>\n",
       "      <td>2.642273</td>\n",
       "      <td>9.099265</td>\n",
       "      <td>...</td>\n",
       "      <td>4.604822</td>\n",
       "      <td>0.705422</td>\n",
       "      <td>0.943236</td>\n",
       "      <td>0.518055</td>\n",
       "      <td>1.894968</td>\n",
       "      <td>3.908483</td>\n",
       "      <td>0.759649</td>\n",
       "      <td>1.989441</td>\n",
       "      <td>1.583235</td>\n",
       "      <td>0.864318</td>\n",
       "    </tr>\n",
       "    <tr>\n",
       "      <th>7559</th>\n",
       "      <td>0.384215</td>\n",
       "      <td>4.902560</td>\n",
       "      <td>6.377648</td>\n",
       "      <td>2.532949</td>\n",
       "      <td>2.676970</td>\n",
       "      <td>8.155677</td>\n",
       "      <td>5.619813</td>\n",
       "      <td>1.058447</td>\n",
       "      <td>2.643724</td>\n",
       "      <td>9.192289</td>\n",
       "      <td>...</td>\n",
       "      <td>4.602931</td>\n",
       "      <td>0.710185</td>\n",
       "      <td>0.942694</td>\n",
       "      <td>0.519002</td>\n",
       "      <td>1.890027</td>\n",
       "      <td>3.920093</td>\n",
       "      <td>0.750921</td>\n",
       "      <td>2.015178</td>\n",
       "      <td>1.590881</td>\n",
       "      <td>0.857114</td>\n",
       "    </tr>\n",
       "    <tr>\n",
       "      <th>7560</th>\n",
       "      <td>0.382805</td>\n",
       "      <td>4.914063</td>\n",
       "      <td>6.272164</td>\n",
       "      <td>2.534833</td>\n",
       "      <td>2.666193</td>\n",
       "      <td>8.115839</td>\n",
       "      <td>5.597430</td>\n",
       "      <td>1.063613</td>\n",
       "      <td>2.661860</td>\n",
       "      <td>9.218574</td>\n",
       "      <td>...</td>\n",
       "      <td>4.553399</td>\n",
       "      <td>0.717861</td>\n",
       "      <td>0.954617</td>\n",
       "      <td>0.517755</td>\n",
       "      <td>1.899539</td>\n",
       "      <td>3.881779</td>\n",
       "      <td>0.749810</td>\n",
       "      <td>2.009430</td>\n",
       "      <td>1.585352</td>\n",
       "      <td>0.852707</td>\n",
       "    </tr>\n",
       "  </tbody>\n",
       "</table>\n",
       "<p>7561 rows × 500 columns</p>\n",
       "</div>"
      ],
      "text/plain": [
       "           0         1         2         3         4         5         6    \\\n",
       "0     1.000000  1.000000  1.000000  1.000000  1.000000  1.000000  1.000000   \n",
       "1     1.012401  1.018831  0.990089  1.011737  1.006388  0.997611  1.006812   \n",
       "2     0.994534  1.023748  0.993528  1.007961  1.017114  0.995836  1.014218   \n",
       "3     0.997071  1.028452  1.006394  1.003601  1.011638  0.989489  1.023656   \n",
       "4     0.998239  1.036496  0.996324  1.005538  1.006499  0.975381  1.029142   \n",
       "...        ...       ...       ...       ...       ...       ...       ...   \n",
       "7556  0.388908  4.902723  6.524555  2.560505  2.723373  8.245256  5.609979   \n",
       "7557  0.390039  4.897193  6.394879  2.543006  2.723678  8.239033  5.609663   \n",
       "7558  0.384385  4.880810  6.307220  2.532785  2.713368  8.208952  5.588034   \n",
       "7559  0.384215  4.902560  6.377648  2.532949  2.676970  8.155677  5.619813   \n",
       "7560  0.382805  4.914063  6.272164  2.534833  2.666193  8.115839  5.597430   \n",
       "\n",
       "           7         8         9    ...       490       491       492  \\\n",
       "0     1.000000  1.000000  1.000000  ...  1.000000  1.000000  1.000000   \n",
       "1     0.999803  1.020952  1.005280  ...  0.994169  1.006203  0.983968   \n",
       "2     0.984729  1.028017  1.014026  ...  0.995691  1.009558  0.975890   \n",
       "3     0.994395  1.024164  1.025858  ...  0.995447  1.028129  0.971312   \n",
       "4     0.993862  1.028272  1.012496  ...  0.976485  1.016134  0.970681   \n",
       "...        ...       ...       ...  ...       ...       ...       ...   \n",
       "7556  1.054869  2.591264  9.169800  ...  4.604009  0.696724  0.914878   \n",
       "7557  1.046536  2.619650  9.168680  ...  4.622385  0.696778  0.918752   \n",
       "7558  1.052834  2.642273  9.099265  ...  4.604822  0.705422  0.943236   \n",
       "7559  1.058447  2.643724  9.192289  ...  4.602931  0.710185  0.942694   \n",
       "7560  1.063613  2.661860  9.218574  ...  4.553399  0.717861  0.954617   \n",
       "\n",
       "           493       494       495       496       497       498       499  \n",
       "0     1.000000  1.000000  1.000000  1.000000  1.000000  1.000000  1.000000  \n",
       "1     0.987509  0.999059  1.003941  1.012624  1.006157  1.001081  0.990977  \n",
       "2     1.001508  1.010649  1.009054  1.007556  1.016537  1.001806  0.991192  \n",
       "3     0.988881  1.007340  1.005213  1.019897  1.012544  1.008765  1.004603  \n",
       "4     0.989862  1.017559  0.996708  1.033095  1.026437  1.002587  1.024716  \n",
       "...        ...       ...       ...       ...       ...       ...       ...  \n",
       "7556  0.520951  1.868173  3.894625  0.746690  2.005948  1.582287  0.844107  \n",
       "7557  0.516971  1.883347  3.875873  0.759146  2.006590  1.575266  0.850849  \n",
       "7558  0.518055  1.894968  3.908483  0.759649  1.989441  1.583235  0.864318  \n",
       "7559  0.519002  1.890027  3.920093  0.750921  2.015178  1.590881  0.857114  \n",
       "7560  0.517755  1.899539  3.881779  0.749810  2.009430  1.585352  0.852707  \n",
       "\n",
       "[7561 rows x 500 columns]"
      ]
     },
     "execution_count": 45,
     "metadata": {},
     "output_type": "execute_result"
    }
   ],
   "source": [
    "# Run the Monte Carlo simulation to forecast 30 years cumulative returns\n",
    "MC_6040_weight.calc_cumulative_return()\n"
   ]
  },
  {
   "cell_type": "code",
   "execution_count": 49,
   "metadata": {},
   "outputs": [
    {
     "data": {
      "image/png": "[encoded data removed]",
      "text/plain": [
       "<Figure size 432x288 with 1 Axes>"
      ]
     },
     "metadata": {
      "needs_background": "light"
     },
     "output_type": "display_data"
    }
   ],
   "source": [
    "# Visualize the 30-year Monte Carlo simulation by creating an\n",
    "# overlay line plot\n",
    "weight_6040_line_plot = MC_6040_weight.plot_simulation()"
   ]
  },
  {
   "cell_type": "markdown",
   "metadata": {},
   "source": [
    "#### Step 3: Plot the probability distribution of the Monte Carlo simulation."
   ]
  },
  {
   "cell_type": "code",
   "execution_count": 50,
   "metadata": {},
   "outputs": [
    {
     "data": {
      "image/png": "[encoded data removed]",
      "text/plain": [
       "<Figure size 432x288 with 1 Axes>"
      ]
     },
     "metadata": {
      "needs_background": "light"
     },
     "output_type": "display_data"
    }
   ],
   "source": [
    "# Visualize the probability distribution of the 30-year Monte Carlo simulation \n",
    "# by plotting a histogram\n",
    "weight_6040_distribution_plot = MC_6040_weight.plot_distribution()"
   ]
  },
  {
   "cell_type": "markdown",
   "metadata": {},
   "source": [
    "#### Step 4: Generate the summary statistics for the Monte Carlo simulation."
   ]
  },
  {
   "cell_type": "code",
   "execution_count": 51,
   "metadata": {},
   "outputs": [
    {
     "data": {
      "text/plain": [
       "count           500.000000\n",
       "mean              3.783002\n",
       "std               3.576128\n",
       "min               0.257546\n",
       "25%               1.556632\n",
       "50%               2.845943\n",
       "75%               4.761037\n",
       "max              31.337016\n",
       "95% CI Lower      0.526054\n",
       "95% CI Upper     13.054361\n",
       "Name: 7560, dtype: float64"
      ]
     },
     "execution_count": 51,
     "metadata": {},
     "output_type": "execute_result"
    }
   ],
   "source": [
    "# Generate summary statistics from the 30-year Monte Carlo simulation results\n",
    "# Save the results as a variable\n",
    "weight_6040_table = MC_6040_weight.summarize_cumulative_return()\n",
    "\n",
    "# Review the 30-year Monte Carlo summary statistics\n",
    "weight_6040_table"
   ]
  },
  {
   "cell_type": "markdown",
   "metadata": {},
   "source": [
    "### Analyze the Retirement Portfolio Forecasts\n",
    "\n",
    "Using the current value of only the stock and bond portion of the member's portfolio and the summary statistics that you generated from the Monte Carlo simulation, answer the following question in your Jupyter notebook:\n",
    "\n",
    "-  What are the lower and upper bounds for the expected value of the portfolio with a 95% confidence interval?\n"
   ]
  },
  {
   "cell_type": "code",
   "execution_count": 53,
   "metadata": {},
   "outputs": [
    {
     "name": "stdout",
     "output_type": "stream",
     "text": [
      "The Current balance of stock and bond portion of the members portfolio is $62794.4\n"
     ]
    }
   ],
   "source": [
    "# Print the current balance of the stock and bond portion of the members portfolio\n",
    "print(f\"The Current balance of stock and bond portion of the members portfolio is ${total_stocks_bonds}\")\n"
   ]
  },
  {
   "cell_type": "code",
   "execution_count": 65,
   "metadata": {},
   "outputs": [
    {
     "name": "stdout",
     "output_type": "stream",
     "text": [
      "There is a 95% chance for current value stock/bond portfolio with an 60% for SPY and 40% for AGG weight portfolio over the next 30 years will end within in the range of $33033.04 and $819735.57.\n"
     ]
    }
   ],
   "source": [
    "# Use the lower and upper `95%` confidence intervals to calculate the range of the possible outcomes for the current stock/bond portfolio\n",
    "ci_lower_thirty_cumulative_return = round(weight_6040_table[8]*62794,2)\n",
    "ci_upper_thirty_cumulative_return = round(weight_6040_table[9]*62794,2)\n",
    "\n",
    "# Print the result of your calculations\n",
    "print(f\"There is a 95% chance for current value stock/bond portfolio\"\n",
    "      f\" with an 60% for SPY and 40% for AGG weight portfolio over the next 30 years will end within in the range of\"\n",
    "      f\" ${ci_lower_thirty_cumulative_return} and ${ci_upper_thirty_cumulative_return}.\")\n"
   ]
  },
  {
   "cell_type": "markdown",
   "metadata": {},
   "source": [
    "### Forecast Cumulative Returns in 10 Years\n",
    "\n",
    "The CTO of the credit union is impressed with your work on these planning tools but wonders if 30 years is a long time to wait until retirement. So, your next task is to adjust the retirement portfolio and run a new Monte Carlo simulation to find out if the changes will allow members to retire earlier.\n",
    "\n",
    "For this new Monte Carlo simulation, do the following: \n",
    "\n",
    "- Forecast the cumulative returns for 10 years from now. Because of the shortened investment horizon (30 years to 10 years), the portfolio needs to invest more heavily in the riskier asset&mdash;that is, stock&mdash;to help accumulate wealth for retirement. \n",
    "\n",
    "- Adjust the weights of the retirement portfolio so that the composition for the Monte Carlo simulation consists of 20% bonds and 80% stocks. \n",
    "\n",
    "- Run the simulation over 500 samples, and use the same data that the API call to Alpaca generated.\n",
    "\n",
    "- Based on the new Monte Carlo simulation, answer the following questions in your Jupyter notebook:\n",
    "\n",
    "    - Using the current value of only the stock and bond portion of the member's portfolio and the summary statistics that you generated from the new Monte Carlo simulation, what are the lower and upper bounds for the expected value of the portfolio (with the new weights) with a 95% confidence interval?\n",
    "\n",
    "    - Will weighting the portfolio more heavily toward stocks allow the credit union members to retire after only 10 years?\n"
   ]
  },
  {
   "cell_type": "code",
   "execution_count": 56,
   "metadata": {},
   "outputs": [
    {
     "data": {
      "text/html": [
       "<div>\n",
       "<style scoped>\n",
       "    .dataframe tbody tr th:only-of-type {\n",
       "        vertical-align: middle;\n",
       "    }\n",
       "\n",
       "    .dataframe tbody tr th {\n",
       "        vertical-align: top;\n",
       "    }\n",
       "\n",
       "    .dataframe thead tr th {\n",
       "        text-align: left;\n",
       "    }\n",
       "\n",
       "    .dataframe thead tr:last-of-type th {\n",
       "        text-align: right;\n",
       "    }\n",
       "</style>\n",
       "<table border=\"1\" class=\"dataframe\">\n",
       "  <thead>\n",
       "    <tr>\n",
       "      <th></th>\n",
       "      <th colspan=\"8\" halign=\"left\">SPY</th>\n",
       "      <th colspan=\"8\" halign=\"left\">AGG</th>\n",
       "    </tr>\n",
       "    <tr>\n",
       "      <th></th>\n",
       "      <th>open</th>\n",
       "      <th>high</th>\n",
       "      <th>low</th>\n",
       "      <th>close</th>\n",
       "      <th>volume</th>\n",
       "      <th>trade_count</th>\n",
       "      <th>vwap</th>\n",
       "      <th>daily_return</th>\n",
       "      <th>open</th>\n",
       "      <th>high</th>\n",
       "      <th>low</th>\n",
       "      <th>close</th>\n",
       "      <th>volume</th>\n",
       "      <th>trade_count</th>\n",
       "      <th>vwap</th>\n",
       "      <th>daily_return</th>\n",
       "    </tr>\n",
       "    <tr>\n",
       "      <th>timestamp</th>\n",
       "      <th></th>\n",
       "      <th></th>\n",
       "      <th></th>\n",
       "      <th></th>\n",
       "      <th></th>\n",
       "      <th></th>\n",
       "      <th></th>\n",
       "      <th></th>\n",
       "      <th></th>\n",
       "      <th></th>\n",
       "      <th></th>\n",
       "      <th></th>\n",
       "      <th></th>\n",
       "      <th></th>\n",
       "      <th></th>\n",
       "      <th></th>\n",
       "    </tr>\n",
       "  </thead>\n",
       "  <tbody>\n",
       "    <tr>\n",
       "      <th>2019-11-18 05:00:00+00:00</th>\n",
       "      <td>311.53</td>\n",
       "      <td>312.28</td>\n",
       "      <td>311.03</td>\n",
       "      <td>311.98</td>\n",
       "      <td>50249492</td>\n",
       "      <td>203344</td>\n",
       "      <td>311.812773</td>\n",
       "      <td>NaN</td>\n",
       "      <td>112.56</td>\n",
       "      <td>112.6460</td>\n",
       "      <td>112.5200</td>\n",
       "      <td>112.62</td>\n",
       "      <td>6044518</td>\n",
       "      <td>13537</td>\n",
       "      <td>112.604019</td>\n",
       "      <td>NaN</td>\n",
       "    </tr>\n",
       "    <tr>\n",
       "      <th>2019-11-19 05:00:00+00:00</th>\n",
       "      <td>312.68</td>\n",
       "      <td>312.69</td>\n",
       "      <td>311.22</td>\n",
       "      <td>311.91</td>\n",
       "      <td>71272497</td>\n",
       "      <td>230880</td>\n",
       "      <td>312.009439</td>\n",
       "      <td>-0.000224</td>\n",
       "      <td>112.63</td>\n",
       "      <td>112.7600</td>\n",
       "      <td>112.6000</td>\n",
       "      <td>112.70</td>\n",
       "      <td>2656090</td>\n",
       "      <td>10232</td>\n",
       "      <td>112.700069</td>\n",
       "      <td>0.000710</td>\n",
       "    </tr>\n",
       "    <tr>\n",
       "      <th>2019-11-20 05:00:00+00:00</th>\n",
       "      <td>311.28</td>\n",
       "      <td>311.85</td>\n",
       "      <td>309.06</td>\n",
       "      <td>310.81</td>\n",
       "      <td>79719841</td>\n",
       "      <td>381793</td>\n",
       "      <td>310.657500</td>\n",
       "      <td>-0.003527</td>\n",
       "      <td>112.83</td>\n",
       "      <td>112.9800</td>\n",
       "      <td>112.8050</td>\n",
       "      <td>112.97</td>\n",
       "      <td>3474498</td>\n",
       "      <td>14795</td>\n",
       "      <td>112.903444</td>\n",
       "      <td>0.002396</td>\n",
       "    </tr>\n",
       "    <tr>\n",
       "      <th>2019-11-21 05:00:00+00:00</th>\n",
       "      <td>310.89</td>\n",
       "      <td>311.01</td>\n",
       "      <td>309.39</td>\n",
       "      <td>310.30</td>\n",
       "      <td>54689005</td>\n",
       "      <td>239122</td>\n",
       "      <td>310.314550</td>\n",
       "      <td>-0.001641</td>\n",
       "      <td>112.80</td>\n",
       "      <td>112.8859</td>\n",
       "      <td>112.7200</td>\n",
       "      <td>112.81</td>\n",
       "      <td>6522830</td>\n",
       "      <td>14450</td>\n",
       "      <td>112.797968</td>\n",
       "      <td>-0.001416</td>\n",
       "    </tr>\n",
       "    <tr>\n",
       "      <th>2019-11-22 05:00:00+00:00</th>\n",
       "      <td>311.09</td>\n",
       "      <td>311.24</td>\n",
       "      <td>309.85</td>\n",
       "      <td>311.02</td>\n",
       "      <td>44851102</td>\n",
       "      <td>184088</td>\n",
       "      <td>310.780328</td>\n",
       "      <td>0.002320</td>\n",
       "      <td>112.89</td>\n",
       "      <td>112.9000</td>\n",
       "      <td>112.7605</td>\n",
       "      <td>112.87</td>\n",
       "      <td>2509158</td>\n",
       "      <td>9837</td>\n",
       "      <td>112.853991</td>\n",
       "      <td>0.000532</td>\n",
       "    </tr>\n",
       "  </tbody>\n",
       "</table>\n",
       "</div>"
      ],
      "text/plain": [
       "                              SPY                                    \\\n",
       "                             open    high     low   close    volume   \n",
       "timestamp                                                             \n",
       "2019-11-18 05:00:00+00:00  311.53  312.28  311.03  311.98  50249492   \n",
       "2019-11-19 05:00:00+00:00  312.68  312.69  311.22  311.91  71272497   \n",
       "2019-11-20 05:00:00+00:00  311.28  311.85  309.06  310.81  79719841   \n",
       "2019-11-21 05:00:00+00:00  310.89  311.01  309.39  310.30  54689005   \n",
       "2019-11-22 05:00:00+00:00  311.09  311.24  309.85  311.02  44851102   \n",
       "\n",
       "                                                                   AGG  \\\n",
       "                          trade_count        vwap daily_return    open   \n",
       "timestamp                                                                \n",
       "2019-11-18 05:00:00+00:00      203344  311.812773          NaN  112.56   \n",
       "2019-11-19 05:00:00+00:00      230880  312.009439    -0.000224  112.63   \n",
       "2019-11-20 05:00:00+00:00      381793  310.657500    -0.003527  112.83   \n",
       "2019-11-21 05:00:00+00:00      239122  310.314550    -0.001641  112.80   \n",
       "2019-11-22 05:00:00+00:00      184088  310.780328     0.002320  112.89   \n",
       "\n",
       "                                                                            \\\n",
       "                               high       low   close   volume trade_count   \n",
       "timestamp                                                                    \n",
       "2019-11-18 05:00:00+00:00  112.6460  112.5200  112.62  6044518       13537   \n",
       "2019-11-19 05:00:00+00:00  112.7600  112.6000  112.70  2656090       10232   \n",
       "2019-11-20 05:00:00+00:00  112.9800  112.8050  112.97  3474498       14795   \n",
       "2019-11-21 05:00:00+00:00  112.8859  112.7200  112.81  6522830       14450   \n",
       "2019-11-22 05:00:00+00:00  112.9000  112.7605  112.87  2509158        9837   \n",
       "\n",
       "                                                    \n",
       "                                 vwap daily_return  \n",
       "timestamp                                           \n",
       "2019-11-18 05:00:00+00:00  112.604019          NaN  \n",
       "2019-11-19 05:00:00+00:00  112.700069     0.000710  \n",
       "2019-11-20 05:00:00+00:00  112.903444     0.002396  \n",
       "2019-11-21 05:00:00+00:00  112.797968    -0.001416  \n",
       "2019-11-22 05:00:00+00:00  112.853991     0.000532  "
      ]
     },
     "execution_count": 56,
     "metadata": {},
     "output_type": "execute_result"
    }
   ],
   "source": [
    "# Configure a Monte Carlo simulation to forecast 10 years cumulative returns\n",
    "# The weights should be split 20% to AGG and 80% to SPY.\n",
    "# Run 500 samples.\n",
    "MC_8020_weight = MCSimulation(\n",
    "    portfolio_data = portfolio_prices_df,\n",
    "    weights = [.80, .20],\n",
    "    num_simulation = 500,\n",
    "    num_trading_days = 252*10\n",
    ")\n",
    "\n",
    "# Review the simulation input data\n",
    "MC_8020_weight.portfolio_data.head()\n"
   ]
  },
  {
   "cell_type": "code",
   "execution_count": 57,
   "metadata": {},
   "outputs": [
    {
     "name": "stdout",
     "output_type": "stream",
     "text": [
      "Running Monte Carlo simulation number 0.\n",
      "Running Monte Carlo simulation number 10.\n",
      "Running Monte Carlo simulation number 20.\n",
      "Running Monte Carlo simulation number 30.\n",
      "Running Monte Carlo simulation number 40.\n",
      "Running Monte Carlo simulation number 50.\n",
      "Running Monte Carlo simulation number 60.\n",
      "Running Monte Carlo simulation number 70.\n",
      "Running Monte Carlo simulation number 80.\n",
      "Running Monte Carlo simulation number 90.\n",
      "Running Monte Carlo simulation number 100.\n"
     ]
    },
    {
     "name": "stderr",
     "output_type": "stream",
     "text": [
      "C:\\Users\\madhu\\Fintech-workspace\\Module5_Assignment\\Starter_Code\\MCForecastTools.py:117: PerformanceWarning: DataFrame is highly fragmented.  This is usually the result of calling `frame.insert` many times, which has poor performance.  Consider joining all columns at once using pd.concat(axis=1) instead.  To get a de-fragmented frame, use `newframe = frame.copy()`\n",
      "  portfolio_cumulative_returns[n] = (1 + sim_df.fillna(0)).cumprod()\n"
     ]
    },
    {
     "name": "stdout",
     "output_type": "stream",
     "text": [
      "Running Monte Carlo simulation number 110.\n",
      "Running Monte Carlo simulation number 120.\n",
      "Running Monte Carlo simulation number 130.\n",
      "Running Monte Carlo simulation number 140.\n",
      "Running Monte Carlo simulation number 150.\n",
      "Running Monte Carlo simulation number 160.\n",
      "Running Monte Carlo simulation number 170.\n",
      "Running Monte Carlo simulation number 180.\n",
      "Running Monte Carlo simulation number 190.\n",
      "Running Monte Carlo simulation number 200.\n",
      "Running Monte Carlo simulation number 210.\n",
      "Running Monte Carlo simulation number 220.\n",
      "Running Monte Carlo simulation number 230.\n",
      "Running Monte Carlo simulation number 240.\n",
      "Running Monte Carlo simulation number 250.\n",
      "Running Monte Carlo simulation number 260.\n",
      "Running Monte Carlo simulation number 270.\n",
      "Running Monte Carlo simulation number 280.\n",
      "Running Monte Carlo simulation number 290.\n",
      "Running Monte Carlo simulation number 300.\n",
      "Running Monte Carlo simulation number 310.\n",
      "Running Monte Carlo simulation number 320.\n",
      "Running Monte Carlo simulation number 330.\n",
      "Running Monte Carlo simulation number 340.\n",
      "Running Monte Carlo simulation number 350.\n",
      "Running Monte Carlo simulation number 360.\n",
      "Running Monte Carlo simulation number 370.\n",
      "Running Monte Carlo simulation number 380.\n",
      "Running Monte Carlo simulation number 390.\n",
      "Running Monte Carlo simulation number 400.\n",
      "Running Monte Carlo simulation number 410.\n",
      "Running Monte Carlo simulation number 420.\n",
      "Running Monte Carlo simulation number 430.\n",
      "Running Monte Carlo simulation number 440.\n",
      "Running Monte Carlo simulation number 450.\n",
      "Running Monte Carlo simulation number 460.\n",
      "Running Monte Carlo simulation number 470.\n",
      "Running Monte Carlo simulation number 480.\n",
      "Running Monte Carlo simulation number 490.\n"
     ]
    },
    {
     "data": {
      "text/html": [
       "<div>\n",
       "<style scoped>\n",
       "    .dataframe tbody tr th:only-of-type {\n",
       "        vertical-align: middle;\n",
       "    }\n",
       "\n",
       "    .dataframe tbody tr th {\n",
       "        vertical-align: top;\n",
       "    }\n",
       "\n",
       "    .dataframe thead th {\n",
       "        text-align: right;\n",
       "    }\n",
       "</style>\n",
       "<table border=\"1\" class=\"dataframe\">\n",
       "  <thead>\n",
       "    <tr style=\"text-align: right;\">\n",
       "      <th></th>\n",
       "      <th>0</th>\n",
       "      <th>1</th>\n",
       "      <th>2</th>\n",
       "      <th>3</th>\n",
       "      <th>4</th>\n",
       "      <th>5</th>\n",
       "      <th>6</th>\n",
       "      <th>7</th>\n",
       "      <th>8</th>\n",
       "      <th>9</th>\n",
       "      <th>...</th>\n",
       "      <th>490</th>\n",
       "      <th>491</th>\n",
       "      <th>492</th>\n",
       "      <th>493</th>\n",
       "      <th>494</th>\n",
       "      <th>495</th>\n",
       "      <th>496</th>\n",
       "      <th>497</th>\n",
       "      <th>498</th>\n",
       "      <th>499</th>\n",
       "    </tr>\n",
       "  </thead>\n",
       "  <tbody>\n",
       "    <tr>\n",
       "      <th>0</th>\n",
       "      <td>1.000000</td>\n",
       "      <td>1.000000</td>\n",
       "      <td>1.000000</td>\n",
       "      <td>1.000000</td>\n",
       "      <td>1.000000</td>\n",
       "      <td>1.000000</td>\n",
       "      <td>1.000000</td>\n",
       "      <td>1.000000</td>\n",
       "      <td>1.000000</td>\n",
       "      <td>1.000000</td>\n",
       "      <td>...</td>\n",
       "      <td>1.000000</td>\n",
       "      <td>1.000000</td>\n",
       "      <td>1.000000</td>\n",
       "      <td>1.000000</td>\n",
       "      <td>1.000000</td>\n",
       "      <td>1.000000</td>\n",
       "      <td>1.000000</td>\n",
       "      <td>1.000000</td>\n",
       "      <td>1.000000</td>\n",
       "      <td>1.000000</td>\n",
       "    </tr>\n",
       "    <tr>\n",
       "      <th>1</th>\n",
       "      <td>1.004118</td>\n",
       "      <td>0.999568</td>\n",
       "      <td>0.984041</td>\n",
       "      <td>1.040894</td>\n",
       "      <td>0.982839</td>\n",
       "      <td>0.978784</td>\n",
       "      <td>0.989008</td>\n",
       "      <td>1.014080</td>\n",
       "      <td>1.010246</td>\n",
       "      <td>1.010876</td>\n",
       "      <td>...</td>\n",
       "      <td>0.987333</td>\n",
       "      <td>0.985698</td>\n",
       "      <td>1.029015</td>\n",
       "      <td>1.001421</td>\n",
       "      <td>1.004816</td>\n",
       "      <td>0.995317</td>\n",
       "      <td>0.983315</td>\n",
       "      <td>0.998998</td>\n",
       "      <td>0.988494</td>\n",
       "      <td>0.993294</td>\n",
       "    </tr>\n",
       "    <tr>\n",
       "      <th>2</th>\n",
       "      <td>1.005143</td>\n",
       "      <td>0.999359</td>\n",
       "      <td>0.972776</td>\n",
       "      <td>1.038227</td>\n",
       "      <td>0.983121</td>\n",
       "      <td>0.984605</td>\n",
       "      <td>0.973393</td>\n",
       "      <td>1.024708</td>\n",
       "      <td>1.009046</td>\n",
       "      <td>1.014227</td>\n",
       "      <td>...</td>\n",
       "      <td>0.990943</td>\n",
       "      <td>0.995467</td>\n",
       "      <td>1.049317</td>\n",
       "      <td>1.012066</td>\n",
       "      <td>1.002657</td>\n",
       "      <td>0.999252</td>\n",
       "      <td>0.986468</td>\n",
       "      <td>0.997471</td>\n",
       "      <td>0.974703</td>\n",
       "      <td>0.990470</td>\n",
       "    </tr>\n",
       "    <tr>\n",
       "      <th>3</th>\n",
       "      <td>1.031650</td>\n",
       "      <td>0.967616</td>\n",
       "      <td>0.966622</td>\n",
       "      <td>1.046220</td>\n",
       "      <td>0.971983</td>\n",
       "      <td>0.958155</td>\n",
       "      <td>0.978745</td>\n",
       "      <td>1.026641</td>\n",
       "      <td>0.996720</td>\n",
       "      <td>1.025706</td>\n",
       "      <td>...</td>\n",
       "      <td>1.005673</td>\n",
       "      <td>0.996284</td>\n",
       "      <td>1.040922</td>\n",
       "      <td>0.989369</td>\n",
       "      <td>1.016691</td>\n",
       "      <td>0.997038</td>\n",
       "      <td>0.987603</td>\n",
       "      <td>1.001181</td>\n",
       "      <td>0.961581</td>\n",
       "      <td>0.992549</td>\n",
       "    </tr>\n",
       "    <tr>\n",
       "      <th>4</th>\n",
       "      <td>1.043474</td>\n",
       "      <td>0.965147</td>\n",
       "      <td>0.989276</td>\n",
       "      <td>1.041259</td>\n",
       "      <td>0.983580</td>\n",
       "      <td>0.959945</td>\n",
       "      <td>0.981364</td>\n",
       "      <td>1.027803</td>\n",
       "      <td>1.000229</td>\n",
       "      <td>1.030182</td>\n",
       "      <td>...</td>\n",
       "      <td>1.038300</td>\n",
       "      <td>1.009763</td>\n",
       "      <td>1.057051</td>\n",
       "      <td>0.997847</td>\n",
       "      <td>1.022006</td>\n",
       "      <td>0.995133</td>\n",
       "      <td>0.995783</td>\n",
       "      <td>0.980183</td>\n",
       "      <td>0.971609</td>\n",
       "      <td>0.990808</td>\n",
       "    </tr>\n",
       "    <tr>\n",
       "      <th>...</th>\n",
       "      <td>...</td>\n",
       "      <td>...</td>\n",
       "      <td>...</td>\n",
       "      <td>...</td>\n",
       "      <td>...</td>\n",
       "      <td>...</td>\n",
       "      <td>...</td>\n",
       "      <td>...</td>\n",
       "      <td>...</td>\n",
       "      <td>...</td>\n",
       "      <td>...</td>\n",
       "      <td>...</td>\n",
       "      <td>...</td>\n",
       "      <td>...</td>\n",
       "      <td>...</td>\n",
       "      <td>...</td>\n",
       "      <td>...</td>\n",
       "      <td>...</td>\n",
       "      <td>...</td>\n",
       "      <td>...</td>\n",
       "      <td>...</td>\n",
       "    </tr>\n",
       "    <tr>\n",
       "      <th>2516</th>\n",
       "      <td>3.797599</td>\n",
       "      <td>0.930574</td>\n",
       "      <td>1.679336</td>\n",
       "      <td>2.341363</td>\n",
       "      <td>2.260161</td>\n",
       "      <td>2.978537</td>\n",
       "      <td>0.702623</td>\n",
       "      <td>1.795591</td>\n",
       "      <td>3.505358</td>\n",
       "      <td>1.239427</td>\n",
       "      <td>...</td>\n",
       "      <td>2.458997</td>\n",
       "      <td>0.626269</td>\n",
       "      <td>2.144561</td>\n",
       "      <td>1.133219</td>\n",
       "      <td>1.379498</td>\n",
       "      <td>3.164100</td>\n",
       "      <td>3.049344</td>\n",
       "      <td>0.520375</td>\n",
       "      <td>0.399602</td>\n",
       "      <td>1.185477</td>\n",
       "    </tr>\n",
       "    <tr>\n",
       "      <th>2517</th>\n",
       "      <td>3.739757</td>\n",
       "      <td>0.934614</td>\n",
       "      <td>1.672259</td>\n",
       "      <td>2.351649</td>\n",
       "      <td>2.248711</td>\n",
       "      <td>3.034231</td>\n",
       "      <td>0.696764</td>\n",
       "      <td>1.819369</td>\n",
       "      <td>3.509169</td>\n",
       "      <td>1.245634</td>\n",
       "      <td>...</td>\n",
       "      <td>2.479961</td>\n",
       "      <td>0.630406</td>\n",
       "      <td>2.179724</td>\n",
       "      <td>1.106450</td>\n",
       "      <td>1.407109</td>\n",
       "      <td>3.200053</td>\n",
       "      <td>3.039936</td>\n",
       "      <td>0.521310</td>\n",
       "      <td>0.402407</td>\n",
       "      <td>1.183090</td>\n",
       "    </tr>\n",
       "    <tr>\n",
       "      <th>2518</th>\n",
       "      <td>3.787344</td>\n",
       "      <td>0.937786</td>\n",
       "      <td>1.726095</td>\n",
       "      <td>2.366000</td>\n",
       "      <td>2.201083</td>\n",
       "      <td>2.999172</td>\n",
       "      <td>0.702983</td>\n",
       "      <td>1.832229</td>\n",
       "      <td>3.445510</td>\n",
       "      <td>1.225376</td>\n",
       "      <td>...</td>\n",
       "      <td>2.475976</td>\n",
       "      <td>0.637702</td>\n",
       "      <td>2.204204</td>\n",
       "      <td>1.117858</td>\n",
       "      <td>1.415324</td>\n",
       "      <td>3.162492</td>\n",
       "      <td>3.048816</td>\n",
       "      <td>0.520323</td>\n",
       "      <td>0.403871</td>\n",
       "      <td>1.198891</td>\n",
       "    </tr>\n",
       "    <tr>\n",
       "      <th>2519</th>\n",
       "      <td>3.826616</td>\n",
       "      <td>0.941051</td>\n",
       "      <td>1.728517</td>\n",
       "      <td>2.340011</td>\n",
       "      <td>2.198225</td>\n",
       "      <td>2.978751</td>\n",
       "      <td>0.707643</td>\n",
       "      <td>1.812176</td>\n",
       "      <td>3.504050</td>\n",
       "      <td>1.228817</td>\n",
       "      <td>...</td>\n",
       "      <td>2.475118</td>\n",
       "      <td>0.633496</td>\n",
       "      <td>2.231021</td>\n",
       "      <td>1.111457</td>\n",
       "      <td>1.443644</td>\n",
       "      <td>3.167737</td>\n",
       "      <td>3.079983</td>\n",
       "      <td>0.515837</td>\n",
       "      <td>0.400146</td>\n",
       "      <td>1.221907</td>\n",
       "    </tr>\n",
       "    <tr>\n",
       "      <th>2520</th>\n",
       "      <td>3.757504</td>\n",
       "      <td>0.947335</td>\n",
       "      <td>1.691008</td>\n",
       "      <td>2.372716</td>\n",
       "      <td>2.230214</td>\n",
       "      <td>3.053414</td>\n",
       "      <td>0.701927</td>\n",
       "      <td>1.784618</td>\n",
       "      <td>3.526012</td>\n",
       "      <td>1.239961</td>\n",
       "      <td>...</td>\n",
       "      <td>2.463464</td>\n",
       "      <td>0.633439</td>\n",
       "      <td>2.248487</td>\n",
       "      <td>1.106835</td>\n",
       "      <td>1.419624</td>\n",
       "      <td>3.152827</td>\n",
       "      <td>3.085677</td>\n",
       "      <td>0.513141</td>\n",
       "      <td>0.405673</td>\n",
       "      <td>1.220226</td>\n",
       "    </tr>\n",
       "  </tbody>\n",
       "</table>\n",
       "<p>2521 rows × 500 columns</p>\n",
       "</div>"
      ],
      "text/plain": [
       "           0         1         2         3         4         5         6    \\\n",
       "0     1.000000  1.000000  1.000000  1.000000  1.000000  1.000000  1.000000   \n",
       "1     1.004118  0.999568  0.984041  1.040894  0.982839  0.978784  0.989008   \n",
       "2     1.005143  0.999359  0.972776  1.038227  0.983121  0.984605  0.973393   \n",
       "3     1.031650  0.967616  0.966622  1.046220  0.971983  0.958155  0.978745   \n",
       "4     1.043474  0.965147  0.989276  1.041259  0.983580  0.959945  0.981364   \n",
       "...        ...       ...       ...       ...       ...       ...       ...   \n",
       "2516  3.797599  0.930574  1.679336  2.341363  2.260161  2.978537  0.702623   \n",
       "2517  3.739757  0.934614  1.672259  2.351649  2.248711  3.034231  0.696764   \n",
       "2518  3.787344  0.937786  1.726095  2.366000  2.201083  2.999172  0.702983   \n",
       "2519  3.826616  0.941051  1.728517  2.340011  2.198225  2.978751  0.707643   \n",
       "2520  3.757504  0.947335  1.691008  2.372716  2.230214  3.053414  0.701927   \n",
       "\n",
       "           7         8         9    ...       490       491       492  \\\n",
       "0     1.000000  1.000000  1.000000  ...  1.000000  1.000000  1.000000   \n",
       "1     1.014080  1.010246  1.010876  ...  0.987333  0.985698  1.029015   \n",
       "2     1.024708  1.009046  1.014227  ...  0.990943  0.995467  1.049317   \n",
       "3     1.026641  0.996720  1.025706  ...  1.005673  0.996284  1.040922   \n",
       "4     1.027803  1.000229  1.030182  ...  1.038300  1.009763  1.057051   \n",
       "...        ...       ...       ...  ...       ...       ...       ...   \n",
       "2516  1.795591  3.505358  1.239427  ...  2.458997  0.626269  2.144561   \n",
       "2517  1.819369  3.509169  1.245634  ...  2.479961  0.630406  2.179724   \n",
       "2518  1.832229  3.445510  1.225376  ...  2.475976  0.637702  2.204204   \n",
       "2519  1.812176  3.504050  1.228817  ...  2.475118  0.633496  2.231021   \n",
       "2520  1.784618  3.526012  1.239961  ...  2.463464  0.633439  2.248487   \n",
       "\n",
       "           493       494       495       496       497       498       499  \n",
       "0     1.000000  1.000000  1.000000  1.000000  1.000000  1.000000  1.000000  \n",
       "1     1.001421  1.004816  0.995317  0.983315  0.998998  0.988494  0.993294  \n",
       "2     1.012066  1.002657  0.999252  0.986468  0.997471  0.974703  0.990470  \n",
       "3     0.989369  1.016691  0.997038  0.987603  1.001181  0.961581  0.992549  \n",
       "4     0.997847  1.022006  0.995133  0.995783  0.980183  0.971609  0.990808  \n",
       "...        ...       ...       ...       ...       ...       ...       ...  \n",
       "2516  1.133219  1.379498  3.164100  3.049344  0.520375  0.399602  1.185477  \n",
       "2517  1.106450  1.407109  3.200053  3.039936  0.521310  0.402407  1.183090  \n",
       "2518  1.117858  1.415324  3.162492  3.048816  0.520323  0.403871  1.198891  \n",
       "2519  1.111457  1.443644  3.167737  3.079983  0.515837  0.400146  1.221907  \n",
       "2520  1.106835  1.419624  3.152827  3.085677  0.513141  0.405673  1.220226  \n",
       "\n",
       "[2521 rows x 500 columns]"
      ]
     },
     "execution_count": 57,
     "metadata": {},
     "output_type": "execute_result"
    }
   ],
   "source": [
    "# Run the Monte Carlo simulation to forecast 10 years cumulative returns\n",
    "MC_8020_weight.calc_cumulative_return()"
   ]
  },
  {
   "cell_type": "code",
   "execution_count": 58,
   "metadata": {},
   "outputs": [
    {
     "data": {
      "image/png": "[encoded data removed]",
      "text/plain": [
       "<Figure size 432x288 with 1 Axes>"
      ]
     },
     "metadata": {
      "needs_background": "light"
     },
     "output_type": "display_data"
    }
   ],
   "source": [
    "# Visualize the 10-year Monte Carlo simulation by creating an\n",
    "# overlay line plot\n",
    "weight_8020_line_plot = MC_8020_weight.plot_simulation()\n"
   ]
  },
  {
   "cell_type": "code",
   "execution_count": 59,
   "metadata": {},
   "outputs": [
    {
     "data": {
      "image/png": "[encoded data removed]",
      "text/plain": [
       "<Figure size 432x288 with 1 Axes>"
      ]
     },
     "metadata": {
      "needs_background": "light"
     },
     "output_type": "display_data"
    }
   ],
   "source": [
    "# Visualize the probability distribution of the 10-year Monte Carlo simulation \n",
    "# by plotting a histogram\n",
    "weight_8020_distribution_plot = MC_8020_weight.plot_distribution()\n"
   ]
  },
  {
   "cell_type": "code",
   "execution_count": 60,
   "metadata": {},
   "outputs": [
    {
     "data": {
      "text/plain": [
       "count           500.000000\n",
       "mean              2.036099\n",
       "std               1.375750\n",
       "min               0.270420\n",
       "25%               1.155970\n",
       "50%               1.643105\n",
       "75%               2.532525\n",
       "max               9.887421\n",
       "95% CI Lower      0.521933\n",
       "95% CI Upper      5.820643\n",
       "Name: 2520, dtype: float64"
      ]
     },
     "execution_count": 60,
     "metadata": {},
     "output_type": "execute_result"
    }
   ],
   "source": [
    "# Generate summary statistics from the 10-year Monte Carlo simulation results\n",
    "# Save the results as a variable\n",
    "\n",
    "weight_8020_table = MC_8020_weight.summarize_cumulative_return()\n",
    "\n",
    "# Review the 10-year Monte Carlo summary statistics\n",
    "weight_8020_table"
   ]
  },
  {
   "cell_type": "markdown",
   "metadata": {},
   "source": [
    "### Answer the following questions:"
   ]
  },
  {
   "cell_type": "markdown",
   "metadata": {},
   "source": [
    "#### Question: Using the current value of only the stock and bond portion of the member's portfolio and the summary statistics that you generated from the new Monte Carlo simulation, what are the lower and upper bounds for the expected value of the portfolio (with the new weights) with a 95% confidence interval?"
   ]
  },
  {
   "cell_type": "code",
   "execution_count": 61,
   "metadata": {},
   "outputs": [
    {
     "name": "stdout",
     "output_type": "stream",
     "text": [
      "62794.4\n"
     ]
    }
   ],
   "source": [
    "# Print the current balance of the stock and bond portion of the members portfolio\n",
    "print(total_stocks_bonds)\n"
   ]
  },
  {
   "cell_type": "code",
   "execution_count": 66,
   "metadata": {},
   "outputs": [
    {
     "name": "stdout",
     "output_type": "stream",
     "text": [
      "There is a 95% chance for current value stock/bond portfolio with an 80% for SPY and 20% for AGG weight portfolio over the next 10 years will end within in the range of lower bounds for the excepted value is $32774.27 and upper bounds for the excepted value is $365501.48.\n"
     ]
    }
   ],
   "source": [
    "# Use the lower and upper `95%` confidence intervals to calculate the range of the possible outcomes for the current stock/bond portfolio\n",
    "ci_lower_ten_cumulative_return = round(weight_8020_table[8]*62794,2)\n",
    "ci_upper_ten_cumulative_return = round(weight_8020_table[9]*62794,2)\n",
    "\n",
    "# Print the result of your calculations\n",
    "print(f\"There is a 95% chance for current value stock/bond portfolio\"\n",
    "      f\" with an 80% for SPY and 20% for AGG weight portfolio over the next 10 years will end within in the range of\"\n",
    "      f\" lower bounds for the excepted value is ${ci_lower_ten_cumulative_return} and upper bounds for the excepted value is ${ci_upper_ten_cumulative_return}.\")\n"
   ]
  },
  {
   "cell_type": "markdown",
   "metadata": {},
   "source": [
    "#### Question: Will weighting the portfolio more heavily to stocks allow the credit union members to retire after only 10 years?"
   ]
  },
  {
   "cell_type": "raw",
   "metadata": {},
   "source": [
    "**Answer** The weighing the portfolio heavily towards stocks will not allow the credit union members to restire after only 10 years as the range is very relatively low."
   ]
  },
  {
   "cell_type": "code",
   "execution_count": null,
   "metadata": {},
   "outputs": [],
   "source": []
  }
 ],
 "metadata": {
  "kernelspec": {
   "display_name": "Python (dev)",
   "language": "python",
   "name": "dev"
  },
  "language_info": {
   "codemirror_mode": {
    "name": "ipython",
    "version": 3
   },
   "file_extension": ".py",
   "mimetype": "text/x-python",
   "name": "python",
   "nbconvert_exporter": "python",
   "pygments_lexer": "ipython3",
   "version": "3.7.13"
  }
 },
 "nbformat": 4,
 "nbformat_minor": 4
}
